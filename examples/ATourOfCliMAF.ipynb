{
 "metadata": {
  "name": ""
 },
 "nbformat": 3,
 "nbformat_minor": 0,
 "worksheets": [
  {
   "cells": [
    {
     "cell_type": "heading",
     "level": 1,
     "metadata": {},
     "source": [
      "CliMAF tour"
     ]
    },
    {
     "cell_type": "heading",
     "level": 1,
     "metadata": {},
     "source": [
      "CliMAF is a framework for Climate Model Assessment. It allows to combine diagnostic binaries, scripts and Python functions as easily as possible\n"
     ]
    },
    {
     "cell_type": "heading",
     "level": 2,
     "metadata": {},
     "source": [
      "Here  : defining a dataset and its location, defining and using operators based on external scripts/binaries or Python functions, assembling all, illustrating cache features, plotting and 'exporting' results (as files or MaskedArrays)"
     ]
    },
    {
     "cell_type": "heading",
     "level": 3,
     "metadata": {},
     "source": [
      "Init CliMAF"
     ]
    },
    {
     "cell_type": "code",
     "collapsed": false,
     "input": [
      "from climaf.api import *"
     ],
     "language": "python",
     "metadata": {},
     "outputs": [],
     "prompt_number": 1
    },
    {
     "cell_type": "heading",
     "level": 3,
     "metadata": {},
     "source": [
      "For the sake of the demo , tell CliMAF to be a bit verbose"
     ]
    },
    {
     "cell_type": "code",
     "collapsed": false,
     "input": [
      "clog(logging.INFO)"
     ],
     "language": "python",
     "metadata": {},
     "outputs": [],
     "prompt_number": 2
    },
    {
     "cell_type": "heading",
     "level": 1,
     "metadata": {},
     "source": [
      "1- Data location and datasets"
     ]
    },
    {
     "cell_type": "heading",
     "level": 3,
     "metadata": {},
     "source": [
      "Declare data organization and base location for an experiment (could be done in config files)"
     ]
    },
    {
     "cell_type": "code",
     "collapsed": false,
     "input": [
      "dataloc(experiment=\"AMIPV6ALB2G\", organization=\"EM\",url=[cpath+\"/../examples/data/AMIPV6ALB2G\"])"
     ],
     "language": "python",
     "metadata": {},
     "outputs": [
      {
       "metadata": {},
       "output_type": "pyout",
       "prompt_number": 3,
       "text": [
        "<climaf.dataloc.dataloc instance at 0x2abba70>"
       ]
      }
     ],
     "prompt_number": 3
    },
    {
     "cell_type": "heading",
     "level": 3,
     "metadata": {},
     "source": [
      "Define a default value for some dataset facets"
     ]
    },
    {
     "cell_type": "code",
     "collapsed": false,
     "input": [
      "cdef(\"frequency\",\"monthly\")\n",
      "cdef(\"period\",\"1980-1981\")"
     ],
     "language": "python",
     "metadata": {},
     "outputs": [],
     "prompt_number": 4
    },
    {
     "cell_type": "heading",
     "level": 3,
     "metadata": {},
     "source": [
      "Define a dataset based on the experiment defined above (this uses the facets default values)"
     ]
    },
    {
     "cell_type": "code",
     "collapsed": false,
     "input": [
      "tas_ds=ds(experiment=\"AMIPV6ALB2G\", variable=\"tas\")"
     ],
     "language": "python",
     "metadata": {},
     "outputs": [],
     "prompt_number": 5
    },
    {
     "cell_type": "heading",
     "level": 3,
     "metadata": {},
     "source": [
      "Have a look at dataset's symbolic expression (other patterns could apply , according to project's \"DRS\")"
     ]
    },
    {
     "cell_type": "code",
     "collapsed": false,
     "input": [
      "tas_ds"
     ],
     "language": "python",
     "metadata": {},
     "outputs": [
      {
       "metadata": {},
       "output_type": "pyout",
       "prompt_number": 6,
       "text": [
        "ds('CMIP5.CNRM-CM5.AMIPV6ALB2G.r1i1p1.19800101-19820101.monthly.global.tas')"
       ]
      }
     ],
     "prompt_number": 6
    },
    {
     "cell_type": "heading",
     "level": 1,
     "metadata": {},
     "source": [
      "2- Using external scripts and binaries for implementing diagnostics"
     ]
    },
    {
     "cell_type": "heading",
     "level": 3,
     "metadata": {},
     "source": [
      "First diagnostic is basic climatology - Declare a 'CliMAF operator' for this diag, using an external script and some keywords conventions"
     ]
    },
    {
     "cell_type": "code",
     "collapsed": false,
     "input": [
      "cscript('time_average' ,cpath+'/../scripts/mcdo.sh timavg ${out} ${var} ${period} ${ins}' )"
     ],
     "language": "python",
     "metadata": {},
     "outputs": [
      {
       "metadata": {},
       "output_type": "pyout",
       "prompt_number": 7,
       "text": [
        "<climaf.operators.cscript instance at 0x2ac0a70>"
       ]
      }
     ],
     "prompt_number": 7
    },
    {
     "cell_type": "heading",
     "level": 3,
     "metadata": {},
     "source": [
      "Let us have a look at the script involved : this one is pure bash wrapping around CDO calls"
     ]
    },
    {
     "cell_type": "code",
     "collapsed": false,
     "input": [
      "%load ../scripts/mcdo.sh"
     ],
     "language": "python",
     "metadata": {},
     "outputs": [],
     "prompt_number": 8
    },
    {
     "cell_type": "code",
     "collapsed": false,
     "input": [
      "#!/bin/bash\n",
      "# Applies a cdo OPERATOR without arg to a number of list of FILES, \n",
      "# selecting a variable VAR and a PERIOD in the files\n",
      "#\n",
      "# Puts results in OUT (assumed to be a string have the right number of filenames in it)\n",
      "# Exit with non-0 status if any problem\n",
      "# PERIOD and/or VAR can be empty, in which case filtering will not occur\n",
      "# OPERATOR can be empty, in which case processing will not occur\n",
      "\n",
      "# Lack of variable VAR in some file(s) is not considered an error\n",
      "# Having no data for the PERIOD is not considered an error\n",
      "\n",
      "set -x \n",
      "operator=$1\n",
      "outs=$2\n",
      "var=$3\n",
      "period=$4\n",
      "shift; shift ;shift; shift\n",
      "#filesList=$*\n",
      "\n",
      "tmp=~/tmp/$(basename $0)\n",
      "mkdir -p $tmp\n",
      "i=0\n",
      "for out in $outs ; do \n",
      "    i=$((i+1))\n",
      "    eval files=\\$$i\n",
      "    vfiles=\"\"\n",
      "    for file in $files ; do\n",
      "\ttmp2=$tmp/$(basename $file)\n",
      "\tif [ \"$period\" ] ; then \n",
      "\t    [ \"$var\" ] && selvar=\"-selname,$var\" \n",
      "\t    cdo seldate,${period/-/,} $selvar $file $tmp2  && vfiles+=\" \"$tmp2\n",
      "\telse\n",
      "\t    if [ \"$var\" ] ; then \n",
      "\t\tcdo selname,$var $file $tmp2 && vfiles+=\" \"$tmp2\n",
      "\t    else vfiles+=\" \"$file ; fi\n",
      "\tfi\n",
      "    done\n",
      "    if [ \"$vfiles\" ] ; then \n",
      "\ttmp3=$tmp/$(basename $0).nc\n",
      "        # In next line, should avoid single file copy followed by rm ...\n",
      "\tcdo copy $vfiles $tmp3 && [ \"$var\" -o \"$period\" ] && rm $vfiles \n",
      "\tif [ \"$operator\" ] ; then \n",
      "\t    if cdo $operator $tmp3 $out ;then \n",
      "\t\trm $tmp3 \n",
      "\t        # Fix some issues : CDO does not discard degenerated dimensions\n",
      "\t\tif [ $operator == fldavg  -o $operator == fldmean ] ; then \n",
      "\t\t    ncwa -O -a lat,lon $out $tmp3  && ncks -O -x -v lat,lon $tmp3 $out && rm $tmp3 \n",
      "\t\telif [ $operator == timavg ] ; then \n",
      "\t\t    ncwa -O -a time $out $tmp3 && ncks -O -x -v time $tmp3 $out && rm $tmp3 \n",
      "\t\tfi\n",
      "\t    fi\n",
      "\telse mv $tmp3 $out ; fi\n",
      "    fi\n",
      "done\n"
     ],
     "language": "python",
     "metadata": {},
     "outputs": []
    },
    {
     "cell_type": "heading",
     "level": 3,
     "metadata": {},
     "source": [
      "Declaring a 'CliMAF operators' actually creates a Python function"
     ]
    },
    {
     "cell_type": "code",
     "collapsed": false,
     "input": [
      "time_average"
     ],
     "language": "python",
     "metadata": {},
     "outputs": [
      {
       "metadata": {},
       "output_type": "pyout",
       "prompt_number": 9,
       "text": [
        "<function __main__.time_average>"
       ]
      }
     ],
     "prompt_number": 9
    },
    {
     "cell_type": "heading",
     "level": 3,
     "metadata": {},
     "source": [
      "A doc string is available for each 'operator function' (it will later automatically include output of '$script --help' command )"
     ]
    },
    {
     "cell_type": "code",
     "collapsed": false,
     "input": [
      "help(time_average)"
     ],
     "language": "python",
     "metadata": {},
     "outputs": [
      {
       "output_type": "stream",
       "stream": "stdout",
       "text": [
        "Help on function time_average in module __main__:\n",
        "\n",
        "time_average(*args, **dic)\n",
        "    CliMAF wrapper for command : /cnrm/aster/data3/aster/senesi/dev/climaf/climaf/../scripts/mcdo.sh timavg ${out} ${var} ${period} ${ins}\n",
        "\n"
       ]
      }
     ],
     "prompt_number": 10
    },
    {
     "cell_type": "heading",
     "level": 3,
     "metadata": {},
     "source": [
      "Symbolically apply the script to a dataset, using the 'CliMAF operator', and have a look at object/symbol result"
     ]
    },
    {
     "cell_type": "code",
     "collapsed": false,
     "input": [
      "tas_avg=time_average(tas_ds)\n",
      "tas_avg"
     ],
     "language": "python",
     "metadata": {},
     "outputs": [
      {
       "output_type": "stream",
       "stream": "stderr",
       "text": [
        "INFO:root:driver.capply : applying script time_average to[\"ds('CMIP5.CNRM-CM5.AMIPV6ALB2G.r1i1p1.19800101-19820101.monthly.global.tas')\"]{}\n"
       ]
      },
      {
       "metadata": {},
       "output_type": "pyout",
       "prompt_number": 11,
       "text": [
        "time_average(ds('CMIP5.CNRM-CM5.AMIPV6ALB2G.r1i1p1.19800101-19820101.monthly.global.tas'))"
       ]
      }
     ],
     "prompt_number": 11
    },
    {
     "cell_type": "heading",
     "level": 1,
     "metadata": {},
     "source": [
      "3- From CliMAF marvelous world to 'real' world : exporting data out of CliMAF"
     ]
    },
    {
     "cell_type": "heading",
     "level": 3,
     "metadata": {},
     "source": [
      "Computation actually occurs when wanting to 'export' objects in some way : here as a file using 'cfile'"
     ]
    },
    {
     "cell_type": "code",
     "collapsed": false,
     "input": [
      "craz()  # Clear CliMAF file cache for enforcing actual computation\n",
      "cfile(tas_avg)"
     ],
     "language": "python",
     "metadata": {},
     "outputs": [
      {
       "output_type": "stream",
       "stream": "stderr",
       "text": [
        "INFO:root:driver.ceval_script : Launching command:/cnrm/aster/data3/aster/senesi/dev/climaf/climaf/../scripts/mcdo.sh timavg /home/senesi/tmp/climaf_cache/4e/4.nc \"tas\" 19800101-19820101 \"/cnrm/aster/data3/aster/senesi/dev/climaf/climaf/../examples/data/AMIPV6ALB2G/A/AMIPV6ALB2GPL1980.nc /cnrm/aster/data3/aster/senesi/dev/climaf/climaf/../examples/data/AMIPV6ALB2G/A/AMIPV6ALB2GPL1981.nc /cnrm/aster/data3/aster/senesi/dev/climaf/climaf/../examples/data/AMIPV6ALB2G/L/AMIPV6ALB2GSFX1980.nc /cnrm/aster/data3/aster/senesi/dev/climaf/climaf/../examples/data/AMIPV6ALB2G/L/AMIPV6ALB2GSFX1981.nc\"\n"
       ]
      },
      {
       "output_type": "stream",
       "stream": "stderr",
       "text": [
        "INFO:root:cache.register : time_average(ds('CMIP5.CNRM-CM5.AMIPV6ALB2G.r1i1p1.19800101-19820101.monthly.global.tas')) registered as /home/senesi/tmp/climaf_cache/4e/4.nc\n"
       ]
      },
      {
       "output_type": "stream",
       "stream": "stderr",
       "text": [
        "INFO:root:driver.ceval_script : Done with command:/cnrm/aster/data3/aster/senesi/dev/climaf/climaf/../scripts/mcdo.sh timavg /home/senesi/tmp/climaf_cache/4e/4.nc \"tas\" 19800101-19820101 \"/cnrm/aster/data3/aster/senesi/dev/climaf/climaf/../examples/data/AMIPV6ALB2G/A/AMIPV6ALB2GPL1980.nc /cnrm/aster/data3/aster/senesi/dev/climaf/climaf/../examples/data/AMIPV6ALB2G/A/AMIPV6ALB2GPL1981.nc /cnrm/aster/data3/aster/senesi/dev/climaf/climaf/../examples/data/AMIPV6ALB2G/L/AMIPV6ALB2GSFX1980.nc /cnrm/aster/data3/aster/senesi/dev/climaf/climaf/../examples/data/AMIPV6ALB2G/L/AMIPV6ALB2GSFX1981.nc\"\n"
       ]
      },
      {
       "metadata": {},
       "output_type": "pyout",
       "prompt_number": 12,
       "text": [
        "'/home/senesi/tmp/climaf_cache/4e/4.nc'"
       ]
      }
     ],
     "prompt_number": 12
    },
    {
     "cell_type": "heading",
     "level": 3,
     "metadata": {},
     "source": [
      "Another export format : MaskedArrays (others could apply, as e.g. CDAT's MV)"
     ]
    },
    {
     "cell_type": "code",
     "collapsed": false,
     "input": [
      "tas_avg_MA=cexport(tas_avg,format=\"MaskedArray\")"
     ],
     "language": "python",
     "metadata": {},
     "outputs": [
      {
       "output_type": "stream",
       "stream": "stderr",
       "text": [
        "INFO:root:driver.ceval : Super-object found in cache : time_average(ds('CMIP5.CNRM-CM5.AMIPV6ALB2G.r1i1p1.19800101-19820101.monthly.global.tas'))\n"
       ]
      }
     ],
     "prompt_number": 13
    },
    {
     "cell_type": "heading",
     "level": 3,
     "metadata": {},
     "source": [
      "Shortcut"
     ]
    },
    {
     "cell_type": "code",
     "collapsed": false,
     "input": [
      "tas_avg_MA=cMA(tas_avg)"
     ],
     "language": "python",
     "metadata": {},
     "outputs": []
    },
    {
     "cell_type": "heading",
     "level": 3,
     "metadata": {},
     "source": [
      "Looking at the result"
     ]
    },
    {
     "cell_type": "code",
     "collapsed": false,
     "input": [
      "type(tas_avg_MA)"
     ],
     "language": "python",
     "metadata": {},
     "outputs": [
      {
       "metadata": {},
       "output_type": "pyout",
       "prompt_number": 14,
       "text": [
        "numpy.ma.core.MaskedArray"
       ]
      }
     ],
     "prompt_number": 14
    },
    {
     "cell_type": "code",
     "collapsed": false,
     "input": [
      "tas_avg_MA.shape"
     ],
     "language": "python",
     "metadata": {},
     "outputs": [
      {
       "metadata": {},
       "output_type": "pyout",
       "prompt_number": 15,
       "text": [
        "(128, 256)"
       ]
      }
     ],
     "prompt_number": 15
    },
    {
     "cell_type": "heading",
     "level": 1,
     "metadata": {},
     "source": [
      "4- CliMAF hanldes a file cache"
     ]
    },
    {
     "cell_type": "heading",
     "level": 3,
     "metadata": {},
     "source": [
      "The file cache will be used whenever the same object is requested (or even for an included objet - to de bevelopped)"
     ]
    },
    {
     "cell_type": "code",
     "collapsed": false,
     "input": [
      "cfile(tas_avg)"
     ],
     "language": "python",
     "metadata": {},
     "outputs": [
      {
       "output_type": "stream",
       "stream": "stderr",
       "text": [
        "INFO:root:driver.ceval : Super-object found in cache : time_average(ds('CMIP5.CNRM-CM5.AMIPV6ALB2G.r1i1p1.19800101-19820101.monthly.global.tas'))\n"
       ]
      },
      {
       "metadata": {},
       "output_type": "pyout",
       "prompt_number": 16,
       "text": [
        "'/home/senesi/tmp/climaf_cache/4e/4.nc'"
       ]
      }
     ],
     "prompt_number": 16
    },
    {
     "cell_type": "heading",
     "level": 3,
     "metadata": {},
     "source": [
      "This is true across equivalent symbolic expressions"
     ]
    },
    {
     "cell_type": "code",
     "collapsed": false,
     "input": [
      "cfile(time_average(ds('CMIP5.CNRM-CM5.AMIPV6ALB2G.r1i1p1.19800101-19820101.monthly.global.tas')))"
     ],
     "language": "python",
     "metadata": {},
     "outputs": [
      {
       "output_type": "stream",
       "stream": "stderr",
       "text": [
        "INFO:root:driver.capply : applying script time_average to[\"ds('CMIP5.CNRM-CM5.AMIPV6ALB2G.r1i1p1.19800101-19820101.monthly.global.tas')\"]{}\n"
       ]
      },
      {
       "output_type": "stream",
       "stream": "stderr",
       "text": [
        "INFO:root:driver.ceval : Super-object found in cache : time_average(ds('CMIP5.CNRM-CM5.AMIPV6ALB2G.r1i1p1.19800101-19820101.monthly.global.tas'))\n"
       ]
      },
      {
       "metadata": {},
       "output_type": "pyout",
       "prompt_number": 17,
       "text": [
        "'/home/senesi/tmp/climaf_cache/4e/4.nc'"
       ]
      }
     ],
     "prompt_number": 17
    },
    {
     "cell_type": "heading",
     "level": 1,
     "metadata": {},
     "source": [
      "5- Figures and plots"
     ]
    },
    {
     "cell_type": "heading",
     "level": 3,
     "metadata": {},
     "source": [
      "Plot the data, first way : let us declare a 'CliMAF operator' for using binary 'ncview'"
     ]
    },
    {
     "cell_type": "code",
     "collapsed": false,
     "input": [
      "cscript('my_ncview' ,'ncview ${in}' , format=None)"
     ],
     "language": "python",
     "metadata": {},
     "outputs": [
      {
       "output_type": "stream",
       "stream": "stderr",
       "text": [
        "WARNING:root:operators.cscript : defining script my_ncview as output-less\n"
       ]
      },
      {
       "metadata": {},
       "output_type": "pyout",
       "prompt_number": 18,
       "text": [
        "<climaf.operators.cscript instance at 0x2e1e950>"
       ]
      }
     ],
     "prompt_number": 18
    },
    {
     "cell_type": "heading",
     "level": 3,
     "metadata": {},
     "source": [
      "Symbolically apply operator 'my_ncview' to the time-averaged dataset"
     ]
    },
    {
     "cell_type": "code",
     "collapsed": false,
     "input": [
      "vfig=my_ncview(tas_avg)\n",
      "vfig"
     ],
     "language": "python",
     "metadata": {},
     "outputs": [
      {
       "output_type": "stream",
       "stream": "stderr",
       "text": [
        "INFO:root:driver.capply : applying script my_ncview to[\"time_average(ds('CMIP5.CNRM-CM5.AMIPV6ALB2G.r1i1p1.19800101-19820101.monthly.global.tas'))\"]{}\n"
       ]
      },
      {
       "metadata": {},
       "output_type": "pyout",
       "prompt_number": 19,
       "text": [
        "my_ncview(time_average(ds('CMIP5.CNRM-CM5.AMIPV6ALB2G.r1i1p1.19800101-19820101.monthly.global.tas')))"
       ]
      }
     ],
     "prompt_number": 19
    },
    {
     "cell_type": "heading",
     "level": 3,
     "metadata": {},
     "source": [
      "Basic display with ncview : 'exporting' the object here returns nothing but implies to launch the script (and hence have it displayed) [ Nothing will show on web-only demo ]"
     ]
    },
    {
     "cell_type": "code",
     "collapsed": false,
     "input": [
      "cexport(vfig)"
     ],
     "language": "python",
     "metadata": {},
     "outputs": [
      {
       "output_type": "stream",
       "stream": "stderr",
       "text": [
        "INFO:root:driver.ceval : Super-object found in cache : time_average(ds('CMIP5.CNRM-CM5.AMIPV6ALB2G.r1i1p1.19800101-19820101.monthly.global.tas'))\n"
       ]
      },
      {
       "output_type": "stream",
       "stream": "stderr",
       "text": [
        "INFO:root:driver.ceval_script : Launching command:ncview \"/home/senesi/tmp/climaf_cache/4e/4.nc\"\n"
       ]
      }
     ],
     "prompt_number": 20
    },
    {
     "cell_type": "heading",
     "level": 3,
     "metadata": {},
     "source": [
      "2nd plot : declare a script plot with PNG output. Here in NCL with a number of args for graphics settings"
     ]
    },
    {
     "cell_type": "code",
     "collapsed": false,
     "input": [
      "cscript('plotmap',\\\n",
      "        \"ncl \"+ cpath +\"/../scripts/plotmap.ncl infile=${in} plotname=${out} \\\n",
      "                    cmap=${color} vmin=${min} vmax=${max} vdelta=${delta} var=${var} \\\n",
      "                    title=${crs} scale=${scale} offset=${offset} units=${units}\",format=\"png\")\n",
      "map=plotmap(tas_avg,color=\"BlueDarkRed18\", min=260, max=300, delta=4, scale=1, offset=0, units=\"K\")\n",
      "map"
     ],
     "language": "python",
     "metadata": {},
     "outputs": [
      {
       "output_type": "stream",
       "stream": "stderr",
       "text": [
        "INFO:root:driver.capply : applying script plotmap to[\"time_average(ds('CMIP5.CNRM-CM5.AMIPV6ALB2G.r1i1p1.19800101-19820101.monthly.global.tas'))\"]{'scale': 1, 'min': 260, 'color': 'BlueDarkRed18', 'max': 300, 'offset': 0, 'delta': 4, 'units': 'K'}\n"
       ]
      },
      {
       "metadata": {},
       "output_type": "pyout",
       "prompt_number": 21,
       "text": [
        "plotmap(time_average(ds('CMIP5.CNRM-CM5.AMIPV6ALB2G.r1i1p1.19800101-19820101.monthly.global.tas')), color='BlueDarkRed18', delta=4, max=300, min=260, offset=0, scale=1, units='K')"
       ]
      }
     ],
     "prompt_number": 21
    },
    {
     "cell_type": "heading",
     "level": 3,
     "metadata": {},
     "source": [
      "Require the figure as a file; here, this leads to actually compute it (i.e. launch the script) "
     ]
    },
    {
     "cell_type": "code",
     "collapsed": false,
     "input": [
      "cfile(map)"
     ],
     "language": "python",
     "metadata": {},
     "outputs": [
      {
       "output_type": "stream",
       "stream": "stderr",
       "text": [
        "INFO:root:driver.ceval : Super-object found in cache : time_average(ds('CMIP5.CNRM-CM5.AMIPV6ALB2G.r1i1p1.19800101-19820101.monthly.global.tas'))\n"
       ]
      },
      {
       "output_type": "stream",
       "stream": "stderr",
       "text": [
        "INFO:root:driver.ceval_script : Launching command:ncl /cnrm/aster/data3/aster/senesi/dev/climaf/climaf/../scripts/plotmap.ncl 'infile=\"/home/senesi/tmp/climaf_cache/4e/4.nc\"' 'plotname=\"/home/senesi/tmp/climaf_cache/a3/2.png\"'                     'cmap=\"BlueDarkRed18\"' 'vmin=260' 'vmax=300' 'vdelta=4' 'var=\"tas\"'                     'title=\"time_average(ds('CMIP5.CNRM-CM5.AMIPV6ALB2G.r1i1p1.19800101-19820101.monthly.global.tas')) - \"' 'scale=1' 'offset=0' 'units=\"K\"'\n"
       ]
      },
      {
       "output_type": "stream",
       "stream": "stderr",
       "text": [
        "INFO:root:cache.register : plotmap(time_average(ds('CMIP5.CNRM-CM5.AMIPV6ALB2G.r1i1p1.19800101-19820101.monthly.global.tas')), color='BlueDarkRed18', delta=4, max=300, min=260, offset=0, scale=1, units='K') registered as /home/senesi/tmp/climaf_cache/a3/2.png\n"
       ]
      },
      {
       "output_type": "stream",
       "stream": "stderr",
       "text": [
        "INFO:root:driver.ceval_script : Done with command:ncl /cnrm/aster/data3/aster/senesi/dev/climaf/climaf/../scripts/plotmap.ncl 'infile=\"/home/senesi/tmp/climaf_cache/4e/4.nc\"' 'plotname=\"/home/senesi/tmp/climaf_cache/a3/2.png\"'                     'cmap=\"BlueDarkRed18\"' 'vmin=260' 'vmax=300' 'vdelta=4' 'var=\"tas\"'                     'title=\"time_average(ds('CMIP5.CNRM-CM5.AMIPV6ALB2G.r1i1p1.19800101-19820101.monthly.global.tas')) - \"' 'scale=1' 'offset=0' 'units=\"K\"'\n"
       ]
      },
      {
       "metadata": {},
       "output_type": "pyout",
       "prompt_number": 22,
       "text": [
        "'/home/senesi/tmp/climaf_cache/a3/2.png'"
       ]
      }
     ],
     "prompt_number": 22
    },
    {
     "cell_type": "heading",
     "level": 3,
     "metadata": {},
     "source": [
      "'Exporting' a figure object leads to display it (and here, to use the cache value) [ Nothing will show on web-only demo ]"
     ]
    },
    {
     "cell_type": "code",
     "collapsed": false,
     "input": [
      "cexport(map)"
     ],
     "language": "python",
     "metadata": {},
     "outputs": [
      {
       "output_type": "stream",
       "stream": "stderr",
       "text": [
        "INFO:root:driver.ceval : Super-object found in cache : plotmap(time_average(ds('CMIP5.CNRM-CM5.AMIPV6ALB2G.r1i1p1.19800101-19820101.monthly.global.tas')), color='BlueDarkRed18', delta=4, max=300, min=260, offset=0, scale=1, units='K')\n"
       ]
      }
     ],
     "prompt_number": 23
    },
    {
     "cell_type": "heading",
     "level": 1,
     "metadata": {},
     "source": [
      "6- Mixing CliMAF basics and Python (and/or IPython)"
     ]
    },
    {
     "cell_type": "heading",
     "level": 3,
     "metadata": {},
     "source": [
      "A more realistic way of configuring the NCL-based plots, using Python features for setting graphics settings on the basis on plotted variable"
     ]
    },
    {
     "cell_type": "code",
     "collapsed": false,
     "input": [
      "def map_graph_attributes(var) :\n",
      "    rep=dict()\n",
      "    rep[\"offset\"]=0.\n",
      "    rep[\"scale\"]=1.\n",
      "    rep[\"color\"]=\"BlueDarkRed18\"\n",
      "    if var=='tas' :\n",
      "        rep[\"offset\"]=-273.15 ;  rep[\"scale\"]=1.0 ; rep[\"units\"]=\"C\"\n",
      "        rep[\"min\"]=-20  ; rep[\"max\"]=20 ; rep[\"delta\"]=2.\n",
      "    return rep\n",
      "    "
     ],
     "language": "python",
     "metadata": {},
     "outputs": [],
     "prompt_number": 24
    },
    {
     "cell_type": "code",
     "collapsed": false,
     "input": [
      "map2=plotmap(tas_avg,crs=\"aaa\",**map_graph_attributes(varOf(tas_avg)))\n",
      "print(map2)"
     ],
     "language": "python",
     "metadata": {},
     "outputs": [
      {
       "output_type": "stream",
       "stream": "stderr",
       "text": [
        "INFO:root:driver.capply : applying script plotmap to[\"time_average(ds('CMIP5.CNRM-CM5.AMIPV6ALB2G.r1i1p1.19800101-19820101.monthly.global.tas'))\"]{'crs': 'aaa', 'scale': 1.0, 'min': -20, 'color': 'BlueDarkRed18', 'max': 20, 'delta': 2.0, 'offset': -273.15, 'units': 'C'}\n"
       ]
      },
      {
       "output_type": "stream",
       "stream": "stdout",
       "text": [
        "plotmap(time_average(ds('CMIP5.CNRM-CM5.AMIPV6ALB2G.r1i1p1.19800101-19820101.monthly.global.tas')), color='BlueDarkRed18', crs='aaa', delta=2.0, max=20, min=-20, offset=-273.15, scale=1.0, units='C')\n"
       ]
      }
     ],
     "prompt_number": 25
    },
    {
     "cell_type": "heading",
     "level": 3,
     "metadata": {},
     "source": [
      "Bonus : using Ipython Notebook features for inline display"
     ]
    },
    {
     "cell_type": "code",
     "collapsed": false,
     "input": [
      "figfile=cfile(map2) ; print(figfile)\n",
      "from IPython.display import Image\n",
      "Image(filename=figfile)"
     ],
     "language": "python",
     "metadata": {},
     "outputs": [
      {
       "output_type": "stream",
       "stream": "stderr",
       "text": [
        "INFO:root:driver.ceval : Super-object found in cache : time_average(ds('CMIP5.CNRM-CM5.AMIPV6ALB2G.r1i1p1.19800101-19820101.monthly.global.tas'))\n"
       ]
      },
      {
       "output_type": "stream",
       "stream": "stderr",
       "text": [
        "INFO:root:driver.ceval_script : Launching command:ncl /cnrm/aster/data3/aster/senesi/dev/climaf/climaf/../scripts/plotmap.ncl 'infile=\"/home/senesi/tmp/climaf_cache/4e/4.nc\"' 'plotname=\"/home/senesi/tmp/climaf_cache/87/0.png\"'                     'cmap=\"BlueDarkRed18\"' 'vmin=-20' 'vmax=20' 'vdelta=2.0' 'var=\"tas\"'                     'title=\"aaa\"' 'scale=1.0' 'offset=-273.15' 'units=\"C\"'\n"
       ]
      },
      {
       "output_type": "stream",
       "stream": "stderr",
       "text": [
        "INFO:root:cache.register : plotmap(time_average(ds('CMIP5.CNRM-CM5.AMIPV6ALB2G.r1i1p1.19800101-19820101.monthly.global.tas')), color='BlueDarkRed18', crs='aaa', delta=2.0, max=20, min=-20, offset=-273.15, scale=1.0, units='C') registered as /home/senesi/tmp/climaf_cache/87/0.png\n"
       ]
      },
      {
       "output_type": "stream",
       "stream": "stderr",
       "text": [
        "INFO:root:driver.ceval_script : Done with command:ncl /cnrm/aster/data3/aster/senesi/dev/climaf/climaf/../scripts/plotmap.ncl 'infile=\"/home/senesi/tmp/climaf_cache/4e/4.nc\"' 'plotname=\"/home/senesi/tmp/climaf_cache/87/0.png\"'                     'cmap=\"BlueDarkRed18\"' 'vmin=-20' 'vmax=20' 'vdelta=2.0' 'var=\"tas\"'                     'title=\"aaa\"' 'scale=1.0' 'offset=-273.15' 'units=\"C\"'\n"
       ]
      },
      {
       "output_type": "stream",
       "stream": "stdout",
       "text": [
        "/home/senesi/tmp/climaf_cache/87/0.png\n"
       ]
      },
      {
       "metadata": {},
       "output_type": "pyout",
       "png": "[encoded data removed]",
       "prompt_number": 26,
       "text": [
        "<IPython.core.display.Image at 0x2bcdf90>"
       ]
      }
     ],
     "prompt_number": 26
    },
    {
     "cell_type": "heading",
     "level": 1,
     "metadata": {},
     "source": [
      "6- Derived variables, the easy way"
     ]
    },
    {
     "cell_type": "heading",
     "level": 3,
     "metadata": {},
     "source": [
      "Define a dataset using a variable name that is not in data files - i.e. a 'derived' variable"
     ]
    },
    {
     "cell_type": "code",
     "collapsed": false,
     "input": [
      "creShortTop=ds(experiment=\"AMIPV6ALB2G\",variable=\"crest\")"
     ],
     "language": "python",
     "metadata": {},
     "outputs": [],
     "prompt_number": 27
    },
    {
     "cell_type": "heading",
     "level": 3,
     "metadata": {},
     "source": [
      "Declare a new 'CliMAF operator', to be used for computing the derived variable"
     ]
    },
    {
     "cell_type": "code",
     "collapsed": false,
     "input": [
      "cscript('minus','cdo sub ${in_1} ${in_2} ${out}')"
     ],
     "language": "python",
     "metadata": {},
     "outputs": [
      {
       "metadata": {},
       "output_type": "pyout",
       "prompt_number": 28,
       "text": [
        "<climaf.operators.cscript instance at 0x2e14290>"
       ]
      }
     ],
     "prompt_number": 28
    },
    {
     "cell_type": "heading",
     "level": 3,
     "metadata": {},
     "source": [
      "Tell how the derived variable is derived using operator 'minus' with inputs defined as similar datasets with alternate variables"
     ]
    },
    {
     "cell_type": "code",
     "collapsed": false,
     "input": [
      "derive('crest','minus','rst','rstcs')"
     ],
     "language": "python",
     "metadata": {},
     "outputs": [],
     "prompt_number": 29
    },
    {
     "cell_type": "heading",
     "level": 3,
     "metadata": {},
     "source": [
      "You can use the 'derived' dataset in any expression; computation will occur when needed"
     ]
    },
    {
     "cell_type": "code",
     "collapsed": false,
     "input": [
      "cexport(my_ncview(creShortTop))"
     ],
     "language": "python",
     "metadata": {},
     "outputs": [
      {
       "output_type": "stream",
       "stream": "stderr",
       "text": [
        "INFO:root:driver.capply : applying script my_ncview to[\"ds('CMIP5.CNRM-CM5.AMIPV6ALB2G.r1i1p1.19800101-19820101.monthly.global.crest')\"]{}\n"
       ]
      },
      {
       "output_type": "stream",
       "stream": "stderr",
       "text": [
        "INFO:root:driver.capply : applying script minus to[\"ds('CMIP5.CNRM-CM5.AMIPV6ALB2G.r1i1p1.19800101-19820101.monthly.global.rst')\", \"ds('CMIP5.CNRM-CM5.AMIPV6ALB2G.r1i1p1.19800101-19820101.monthly.global.rstcs')\"]{}\n"
       ]
      },
      {
       "output_type": "stream",
       "stream": "stderr",
       "text": [
        "INFO:root:driver.capply : applying script select to[\"ds('CMIP5.CNRM-CM5.AMIPV6ALB2G.r1i1p1.19800101-19820101.monthly.global.rst')\"]{}\n"
       ]
      },
      {
       "output_type": "stream",
       "stream": "stderr",
       "text": [
        "INFO:root:driver.ceval_script : Launching command:/cnrm/aster/data3/aster/senesi/dev/climaf/climaf/../scripts/mcdo.sh \"\" /home/senesi/tmp/climaf_cache/51/0.nc \"rst\" 19800101-19820101 \"/cnrm/aster/data3/aster/senesi/dev/climaf/climaf/../examples/data/AMIPV6ALB2G/A/AMIPV6ALB2GPL1980.nc /cnrm/aster/data3/aster/senesi/dev/climaf/climaf/../examples/data/AMIPV6ALB2G/A/AMIPV6ALB2GPL1981.nc /cnrm/aster/data3/aster/senesi/dev/climaf/climaf/../examples/data/AMIPV6ALB2G/L/AMIPV6ALB2GSFX1980.nc /cnrm/aster/data3/aster/senesi/dev/climaf/climaf/../examples/data/AMIPV6ALB2G/L/AMIPV6ALB2GSFX1981.nc\" \n"
       ]
      },
      {
       "output_type": "stream",
       "stream": "stderr",
       "text": [
        "INFO:root:cache.register : select(ds('CMIP5.CNRM-CM5.AMIPV6ALB2G.r1i1p1.19800101-19820101.monthly.global.rst')) registered as /home/senesi/tmp/climaf_cache/51/0.nc\n"
       ]
      },
      {
       "output_type": "stream",
       "stream": "stderr",
       "text": [
        "INFO:root:driver.ceval_script : Done with command:/cnrm/aster/data3/aster/senesi/dev/climaf/climaf/../scripts/mcdo.sh \"\" /home/senesi/tmp/climaf_cache/51/0.nc \"rst\" 19800101-19820101 \"/cnrm/aster/data3/aster/senesi/dev/climaf/climaf/../examples/data/AMIPV6ALB2G/A/AMIPV6ALB2GPL1980.nc /cnrm/aster/data3/aster/senesi/dev/climaf/climaf/../examples/data/AMIPV6ALB2G/A/AMIPV6ALB2GPL1981.nc /cnrm/aster/data3/aster/senesi/dev/climaf/climaf/../examples/data/AMIPV6ALB2G/L/AMIPV6ALB2GSFX1980.nc /cnrm/aster/data3/aster/senesi/dev/climaf/climaf/../examples/data/AMIPV6ALB2G/L/AMIPV6ALB2GSFX1981.nc\" \n"
       ]
      },
      {
       "output_type": "stream",
       "stream": "stderr",
       "text": [
        "INFO:root:driver.capply : applying script select to[\"ds('CMIP5.CNRM-CM5.AMIPV6ALB2G.r1i1p1.19800101-19820101.monthly.global.rstcs')\"]{}\n"
       ]
      },
      {
       "output_type": "stream",
       "stream": "stderr",
       "text": [
        "INFO:root:driver.ceval_script : Launching command:/cnrm/aster/data3/aster/senesi/dev/climaf/climaf/../scripts/mcdo.sh \"\" /home/senesi/tmp/climaf_cache/88/b.nc \"rstcs\" 19800101-19820101 \"/cnrm/aster/data3/aster/senesi/dev/climaf/climaf/../examples/data/AMIPV6ALB2G/A/AMIPV6ALB2GPL1980.nc /cnrm/aster/data3/aster/senesi/dev/climaf/climaf/../examples/data/AMIPV6ALB2G/A/AMIPV6ALB2GPL1981.nc /cnrm/aster/data3/aster/senesi/dev/climaf/climaf/../examples/data/AMIPV6ALB2G/L/AMIPV6ALB2GSFX1980.nc /cnrm/aster/data3/aster/senesi/dev/climaf/climaf/../examples/data/AMIPV6ALB2G/L/AMIPV6ALB2GSFX1981.nc\" \n"
       ]
      },
      {
       "output_type": "stream",
       "stream": "stderr",
       "text": [
        "INFO:root:cache.register : select(ds('CMIP5.CNRM-CM5.AMIPV6ALB2G.r1i1p1.19800101-19820101.monthly.global.rstcs')) registered as /home/senesi/tmp/climaf_cache/88/b.nc\n"
       ]
      },
      {
       "output_type": "stream",
       "stream": "stderr",
       "text": [
        "INFO:root:driver.ceval_script : Done with command:/cnrm/aster/data3/aster/senesi/dev/climaf/climaf/../scripts/mcdo.sh \"\" /home/senesi/tmp/climaf_cache/88/b.nc \"rstcs\" 19800101-19820101 \"/cnrm/aster/data3/aster/senesi/dev/climaf/climaf/../examples/data/AMIPV6ALB2G/A/AMIPV6ALB2GPL1980.nc /cnrm/aster/data3/aster/senesi/dev/climaf/climaf/../examples/data/AMIPV6ALB2G/A/AMIPV6ALB2GPL1981.nc /cnrm/aster/data3/aster/senesi/dev/climaf/climaf/../examples/data/AMIPV6ALB2G/L/AMIPV6ALB2GSFX1980.nc /cnrm/aster/data3/aster/senesi/dev/climaf/climaf/../examples/data/AMIPV6ALB2G/L/AMIPV6ALB2GSFX1981.nc\" \n"
       ]
      },
      {
       "output_type": "stream",
       "stream": "stderr",
       "text": [
        "INFO:root:driver.ceval_script : Launching command:cdo sub \"/home/senesi/tmp/climaf_cache/51/0.nc\" \"/home/senesi/tmp/climaf_cache/88/b.nc\" /home/senesi/tmp/climaf_cache/93/9.nc\n"
       ]
      },
      {
       "output_type": "stream",
       "stream": "stderr",
       "text": [
        "INFO:root:cache.register : minus(ds('CMIP5.CNRM-CM5.AMIPV6ALB2G.r1i1p1.19800101-19820101.monthly.global.rst'), ds('CMIP5.CNRM-CM5.AMIPV6ALB2G.r1i1p1.19800101-19820101.monthly.global.rstcs')) registered as /home/senesi/tmp/climaf_cache/93/9.nc\n"
       ]
      },
      {
       "output_type": "stream",
       "stream": "stderr",
       "text": [
        "INFO:root:driver.ceval_script : Done with command:cdo sub \"/home/senesi/tmp/climaf_cache/51/0.nc\" \"/home/senesi/tmp/climaf_cache/88/b.nc\" /home/senesi/tmp/climaf_cache/93/9.nc\n"
       ]
      },
      {
       "output_type": "stream",
       "stream": "stderr",
       "text": [
        "INFO:root:driver.ceval_script : Launching command:ncview \"/home/senesi/tmp/climaf_cache/93/9.nc\"\n"
       ]
      }
     ],
     "prompt_number": 30
    },
    {
     "cell_type": "heading",
     "level": 3,
     "metadata": {},
     "source": [
      "This becomes powerful when using parameters in scripts call !"
     ]
    },
    {
     "cell_type": "code",
     "collapsed": false,
     "input": [
      "cscript('vinterp','cdo ml2pl,${level} ${in} ${out}')"
     ],
     "language": "python",
     "metadata": {},
     "outputs": [
      {
       "metadata": {},
       "output_type": "pyout",
       "prompt_number": 31,
       "text": [
        "<climaf.operators.cscript instance at 0x2ba5ef0>"
       ]
      }
     ],
     "prompt_number": 31
    },
    {
     "cell_type": "code",
     "collapsed": false,
     "input": [
      "derive('z400','vinterp','zg','ps',level=400)"
     ],
     "language": "python",
     "metadata": {},
     "outputs": [
      {
       "output_type": "stream",
       "stream": "stderr",
       "text": [
        "ERROR:root:operators.derive : number of input variables for operator vinterp is 2, which is inconsistent with script declaration : cdo ml2pl,${level} ${in} ${out}\n"
       ]
      }
     ],
     "prompt_number": 32
    },
    {
     "cell_type": "heading",
     "level": 1,
     "metadata": {},
     "source": [
      "7 - Diagnostics (continued) : using Python functions as CliMAF operators (similar to binaries and external scripts)"
     ]
    },
    {
     "cell_type": "heading",
     "level": 3,
     "metadata": {},
     "source": [
      "Let us define a quite dumb function, which has a very simple interface"
     ]
    },
    {
     "cell_type": "code",
     "collapsed": false,
     "input": [
      "def myfill(ma, filler_value=None) :\n",
      "    \"\"\" myfill(MaskedArray,value) -> MaskedArray\n",
      "    Return a copy of a Masked Array after filling with provided value (or with mean if omitted) \"\"\"\n",
      "    if filler_value is None : filler_value=ma.mean()\n",
      "    return(ma.filled(filler_value))"
     ],
     "language": "python",
     "metadata": {},
     "outputs": [],
     "prompt_number": 33
    },
    {
     "cell_type": "heading",
     "level": 3,
     "metadata": {},
     "source": [
      "Declare the dumb function to CliMAF (simple here, but note that CliMAF can handle multiple outputs)\n"
     ]
    },
    {
     "cell_type": "heading",
     "level": 4,
     "metadata": {},
     "source": [
      "We choose new names both for the function ('filler') and sole keyword argument ('fv')"
     ]
    },
    {
     "cell_type": "code",
     "collapsed": false,
     "input": [
      "cfunc('filler','myfill(${in},filler_value=${fv})', format='MaskedArray')"
     ],
     "language": "python",
     "metadata": {},
     "outputs": [
      {
       "ename": "NameError",
       "evalue": "name 'cfunc' is not defined",
       "output_type": "pyerr",
       "traceback": [
        "\u001b[1;31m---------------------------------------------------------------------------\u001b[0m\n\u001b[1;31mNameError\u001b[0m                                 Traceback (most recent call last)",
        "\u001b[1;32m<ipython-input-34-73243d3df9b1>\u001b[0m in \u001b[0;36m<module>\u001b[1;34m()\u001b[0m\n\u001b[1;32m----> 1\u001b[1;33m \u001b[0mcfunc\u001b[0m\u001b[1;33m(\u001b[0m\u001b[1;34m'filler'\u001b[0m\u001b[1;33m,\u001b[0m\u001b[1;34m'myfill(${in},filler_value=${fv})'\u001b[0m\u001b[1;33m,\u001b[0m \u001b[0mformat\u001b[0m\u001b[1;33m=\u001b[0m\u001b[1;34m'MaskedArray'\u001b[0m\u001b[1;33m)\u001b[0m\u001b[1;33m\u001b[0m\u001b[0m\n\u001b[0m",
        "\u001b[1;31mNameError\u001b[0m: name 'cfunc' is not defined"
       ]
      }
     ],
     "prompt_number": 34
    },
    {
     "cell_type": "heading",
     "level": 3,
     "metadata": {},
     "source": [
      "OK, this is because development is still underway, but we do not foresee any issue with 'cfunc' . Let us sketch how it will work"
     ]
    },
    {
     "cell_type": "heading",
     "level": 3,
     "metadata": {},
     "source": [
      "Use the function in two CliMAF object definitions, with or w/o all arguments"
     ]
    },
    {
     "cell_type": "code",
     "collapsed": false,
     "input": [
      "filled_dg_13   = filler(dg,fv=13)\n",
      "filled_dg_mean = filler(dg)"
     ],
     "language": "python",
     "metadata": {},
     "outputs": []
    },
    {
     "cell_type": "heading",
     "level": 3,
     "metadata": {},
     "source": [
      "You can also feed a Python function with the output of any binary declared to CliMAF and vice-versa"
     ]
    },
    {
     "cell_type": "code",
     "collapsed": false,
     "input": [
      "tas_avg"
     ],
     "language": "python",
     "metadata": {},
     "outputs": [
      {
       "output_type": "stream",
       "stream": "stdout",
       "text": [
        "time_average(ds('CMIP5.CNRM-CM5.AMIPV6ALB2G.r1i1p1.19800101-19820101.monthly.global.tas'))\n"
       ]
      }
     ],
     "prompt_number": 63
    },
    {
     "cell_type": "code",
     "collapsed": false,
     "input": [
      "filled_tas_avg=filler(tas_avg, fv=15)"
     ],
     "language": "python",
     "metadata": {},
     "outputs": []
    },
    {
     "cell_type": "heading",
     "level": 1,
     "metadata": {},
     "source": [
      "Did enjoy ? Want to use or contribute ? Drop a mail to 'senesi at meteo dot fr' "
     ]
    }
   ],
   "metadata": {}
  }
 ]
}
