{
 "metadata": {
  "name": ""
 },
 "nbformat": 3,
 "nbformat_minor": 0,
 "worksheets": [
  {
   "cells": [
    {
     "cell_type": "heading",
     "level": 1,
     "metadata": {},
     "source": [
      "CliMAF tour"
     ]
    },
    {
     "cell_type": "heading",
     "level": 1,
     "metadata": {},
     "source": [
      "CliMAF is a framework for Climate Model Assessment. It allows to combine diagnostic binaries, scripts and Python functions as easily as possible\n"
     ]
    },
    {
     "cell_type": "heading",
     "level": 2,
     "metadata": {},
     "source": [
      "Here  : defining a dataset and its location, defining and using operators based on external scripts/binaries or Python functions, assembling all, illustrating cache features, plotting and 'exporting' results (as files or MaskedArrays)"
     ]
    },
    {
     "cell_type": "heading",
     "level": 3,
     "metadata": {},
     "source": [
      "Init CliMAF"
     ]
    },
    {
     "cell_type": "code",
     "collapsed": false,
     "input": [
      "from climaf.api import *"
     ],
     "language": "python",
     "metadata": {},
     "outputs": [
      {
       "output_type": "stream",
       "stream": "stderr",
       "text": [
        "WARNING:root:operators.cscript : defining script ncview as output-less\n"
       ]
      }
     ],
     "prompt_number": 1
    },
    {
     "cell_type": "heading",
     "level": 3,
     "metadata": {},
     "source": [
      "For the sake of the demo , tell CliMAF to be a bit verbose"
     ]
    },
    {
     "cell_type": "code",
     "collapsed": false,
     "input": [
      "clog(logging.INFO)\n",
      "#clog_file(logging.WARNING)"
     ],
     "language": "python",
     "metadata": {},
     "outputs": [],
     "prompt_number": 2
    },
    {
     "cell_type": "heading",
     "level": 1,
     "metadata": {},
     "source": [
      "1- Data location and datasets"
     ]
    },
    {
     "cell_type": "heading",
     "level": 3,
     "metadata": {},
     "source": [
      "Declare data organization and base location for an experiment (could be done in config files)"
     ]
    },
    {
     "cell_type": "code",
     "collapsed": false,
     "input": [
      "dataloc(experiment=\"AMIPV6ALB2G\", organization=\"example\",url=[cpath+\"/../examples/data/AMIPV6ALB2G\"])"
     ],
     "language": "python",
     "metadata": {},
     "outputs": [
      {
       "metadata": {},
       "output_type": "pyout",
       "prompt_number": 3,
       "text": [
        "<climaf.dataloc.dataloc instance at 0x7fbd8ae49998>"
       ]
      }
     ],
     "prompt_number": 3
    },
    {
     "cell_type": "heading",
     "level": 3,
     "metadata": {},
     "source": [
      "Define a default value for some dataset facets"
     ]
    },
    {
     "cell_type": "code",
     "collapsed": false,
     "input": [
      "cdef(\"frequency\",\"monthly\")\n",
      "cdef(\"period\",\"1980-1981\")"
     ],
     "language": "python",
     "metadata": {},
     "outputs": [],
     "prompt_number": 4
    },
    {
     "cell_type": "heading",
     "level": 3,
     "metadata": {},
     "source": [
      "Define a dataset based on the experiment defined above (this uses the facets default values)"
     ]
    },
    {
     "cell_type": "code",
     "collapsed": false,
     "input": [
      "tas_ds=ds(experiment=\"AMIPV6ALB2G\", variable=\"tas\")"
     ],
     "language": "python",
     "metadata": {},
     "outputs": [],
     "prompt_number": 5
    },
    {
     "cell_type": "heading",
     "level": 3,
     "metadata": {},
     "source": [
      "You can also define a dataset restricted to a latlon box"
     ]
    },
    {
     "cell_type": "code",
     "collapsed": false,
     "input": [
      "tas_ds_r=ds(experiment=\"AMIPV6ALB2G\", variable=\"tas\", period=\"1980-1981\", frequency=\"monthly\", domain=[10,80,-50,40])"
     ],
     "language": "python",
     "metadata": {},
     "outputs": [],
     "prompt_number": 6
    },
    {
     "cell_type": "heading",
     "level": 3,
     "metadata": {},
     "source": [
      "Have a look at dataset's symbolic expression (other patterns could apply , according to project's \"DRS\")"
     ]
    },
    {
     "cell_type": "code",
     "collapsed": false,
     "input": [
      "tas_ds"
     ],
     "language": "python",
     "metadata": {},
     "outputs": [
      {
       "metadata": {},
       "output_type": "pyout",
       "prompt_number": 7,
       "text": [
        "ds('*.*.AMIPV6ALB2G.r1i1p1.19800101-19820101.monthly.global.tas')"
       ]
      }
     ],
     "prompt_number": 7
    },
    {
     "cell_type": "heading",
     "level": 1,
     "metadata": {},
     "source": [
      "2- CliMAF manages the access to the data for a number of organizations"
     ]
    },
    {
     "cell_type": "heading",
     "level": 3,
     "metadata": {},
     "source": [
      "CliMAF can identify all the files containing the variables of the defined dataset (an example for access to data organized to CMIP5 DRS is shown in part 12)"
     ]
    },
    {
     "cell_type": "code",
     "collapsed": false,
     "input": [
      "#tas_ds.contributingFiles()\n",
      "tas_ds.selectFiles()"
     ],
     "language": "python",
     "metadata": {},
     "outputs": [
      {
       "metadata": {},
       "output_type": "pyout",
       "prompt_number": 8,
       "text": [
        "'/cnrm/aster/data3/aster/vignonl/climaf/climaf/../examples/data/AMIPV6ALB2G/A/AMIPV6ALB2GPL1980.nc /cnrm/aster/data3/aster/vignonl/climaf/climaf/../examples/data/AMIPV6ALB2G/A/AMIPV6ALB2GPL1981.nc /cnrm/aster/data3/aster/vignonl/climaf/climaf/../examples/data/AMIPV6ALB2G/L/AMIPV6ALB2GSFX1980.nc /cnrm/aster/data3/aster/vignonl/climaf/climaf/../examples/data/AMIPV6ALB2G/L/AMIPV6ALB2GSFX1981.nc'"
       ]
      }
     ],
     "prompt_number": 8
    },
    {
     "cell_type": "heading",
     "level": 1,
     "metadata": {},
     "source": [
      "3- CliMAF handles a file cache"
     ]
    },
    {
     "cell_type": "heading",
     "level": 3,
     "metadata": {},
     "source": [
      "CliMAF really fetches, reads and selects data only when required - For example, CliMAF command 'cfile' generates a file containing exactly the defined dataset and stores it in CliMAF cache"
     ]
    },
    {
     "cell_type": "code",
     "collapsed": false,
     "input": [
      "craz()\n",
      "cfile(tas_ds)"
     ],
     "language": "python",
     "metadata": {},
     "outputs": [
      {
       "output_type": "stream",
       "stream": "stderr",
       "text": [
        "INFO:root:driver.ceval : nothing relevant found in cache for select(ds('*.*.AMIPV6ALB2G.r1i1p1.19800101-19820101.monthly.global.tas'))\n"
       ]
      },
      {
       "output_type": "stream",
       "stream": "stderr",
       "text": [
        "INFO:root:driver.ceval_script : Launching command:/cnrm/aster/data3/aster/vignonl/climaf/climaf/../scripts/mcdo.sh \"\" /home/vignonl/tmp/climaf_cache/f7/6.nc \"tas\" \"19800101-19820101\" \"\" \"/cnrm/aster/data3/aster/vignonl/climaf/climaf/../examples/data/AMIPV6ALB2G/A/AMIPV6ALB2GPL1980.nc /cnrm/aster/data3/aster/vignonl/climaf/climaf/../examples/data/AMIPV6ALB2G/A/AMIPV6ALB2GPL1981.nc /cnrm/aster/data3/aster/vignonl/climaf/climaf/../examples/data/AMIPV6ALB2G/L/AMIPV6ALB2GSFX1980.nc /cnrm/aster/data3/aster/vignonl/climaf/climaf/../examples/data/AMIPV6ALB2G/L/AMIPV6ALB2GSFX1981.nc\" \n"
       ]
      },
      {
       "output_type": "stream",
       "stream": "stderr",
       "text": [
        "INFO:root:cache.register : select(ds('*.*.AMIPV6ALB2G.r1i1p1.19800101-19820101.monthly.global.tas')) registered as /home/vignonl/tmp/climaf_cache/f7/6.nc\n"
       ]
      },
      {
       "output_type": "stream",
       "stream": "stderr",
       "text": [
        "INFO:root:driver.ceval_script : Done in 1 s with command:/cnrm/aster/data3/aster/vignonl/climaf/climaf/../scripts/mcdo.sh \"\" /home/vignonl/tmp/climaf_cache/f7/6.nc \"tas\" \"19800101-19820101\" \"\" \"/cnrm/aster/data3/aster/vignonl/climaf/climaf/../examples/data/AMIPV6ALB2G/A/AMIPV6ALB2GPL1980.nc /cnrm/aster/data3/aster/vignonl/climaf/climaf/../examples/data/AMIPV6ALB2G/A/AMIPV6ALB2GPL1981.nc /cnrm/aster/data3/aster/vignonl/climaf/climaf/../examples/data/AMIPV6ALB2G/L/AMIPV6ALB2GSFX1980.nc /cnrm/aster/data3/aster/vignonl/climaf/climaf/../examples/data/AMIPV6ALB2G/L/AMIPV6ALB2GSFX1981.nc\" \n"
       ]
      },
      {
       "metadata": {},
       "output_type": "pyout",
       "prompt_number": 9,
       "text": [
        "'/home/vignonl/tmp/climaf_cache/f7/6.nc'"
       ]
      }
     ],
     "prompt_number": 9
    },
    {
     "cell_type": "heading",
     "level": 3,
     "metadata": {},
     "source": [
      "The file cache will be used whenever the same object is requested (or even for an included objet)"
     ]
    },
    {
     "cell_type": "code",
     "collapsed": false,
     "input": [
      "cfile(tas_ds)"
     ],
     "language": "python",
     "metadata": {},
     "outputs": [
      {
       "output_type": "stream",
       "stream": "stderr",
       "text": [
        "INFO:root:driver.ceval : Object found in cache : select(ds('*.*.AMIPV6ALB2G.r1i1p1.19800101-19820101.monthly.global.tas'))\n"
       ]
      },
      {
       "metadata": {},
       "output_type": "pyout",
       "prompt_number": 10,
       "text": [
        "'/home/vignonl/tmp/climaf_cache/f7/6.nc'"
       ]
      }
     ],
     "prompt_number": 10
    },
    {
     "cell_type": "heading",
     "level": 1,
     "metadata": {},
     "source": [
      "4- Using external scripts and binaries for implementing diagnostics"
     ]
    },
    {
     "cell_type": "heading",
     "level": 3,
     "metadata": {},
     "source": [
      "First diagnostic is basic climatology - Let us declare a 'CliMAF operator' for this diag, using an external script and some keywords conventions"
     ]
    },
    {
     "cell_type": "code",
     "collapsed": false,
     "input": [
      "cscript('time_average' ,cpath+'/../scripts/time_average_basics.sh ${out} ${in}' )"
     ],
     "language": "python",
     "metadata": {},
     "outputs": [
      {
       "output_type": "stream",
       "stream": "stderr",
       "text": [
        "WARNING:root:Redefining CliMAF script time_average\n"
       ]
      },
      {
       "metadata": {},
       "output_type": "pyout",
       "prompt_number": 11,
       "text": [
        "<climaf.operators.cscript instance at 0x7fbd8ae66c20>"
       ]
      }
     ],
     "prompt_number": 11
    },
    {
     "cell_type": "heading",
     "level": 3,
     "metadata": {},
     "source": [
      "Let us have a look at the script involved : this one is pure bash wrapping around CDO calls"
     ]
    },
    {
     "cell_type": "code",
     "collapsed": false,
     "input": [
      "%load ../scripts/time_average_basics.sh"
     ],
     "language": "python",
     "metadata": {},
     "outputs": [],
     "prompt_number": 12
    },
    {
     "cell_type": "code",
     "collapsed": false,
     "input": [
      "#!/bin/bash\n",
      "# Applies the timavg cdo operator to a list of FILES \n",
      "# and applies ncwa for discarding degenerated singleton time dimension\n",
      "# Puts results in OUT \n",
      "# Exit with non-0 status if any problem\n",
      "\n",
      "set -ex \n",
      "out=$1\n",
      "files=$2\n",
      "\n",
      "tmp3=$(mktemp /tmp/tmp_file.XXXXXX) \n",
      "#|| exit 1 echo \"execution du programme\" >> $FILE_TMP \n",
      "\n",
      "cdo timavg $files $out\n",
      "ncwa -O -a time $out $tmp3 && ncks -O -x -v time $tmp3 $out && rm $tmp3 \n"
     ],
     "language": "python",
     "metadata": {},
     "outputs": []
    },
    {
     "cell_type": "heading",
     "level": 3,
     "metadata": {},
     "source": [
      "Declaring a 'CliMAF operator' actually creates a Python function"
     ]
    },
    {
     "cell_type": "code",
     "collapsed": false,
     "input": [
      "time_average"
     ],
     "language": "python",
     "metadata": {},
     "outputs": [
      {
       "metadata": {},
       "output_type": "pyout",
       "prompt_number": 13,
       "text": [
        "<function __main__.time_average>"
       ]
      }
     ],
     "prompt_number": 13
    },
    {
     "cell_type": "heading",
     "level": 3,
     "metadata": {},
     "source": [
      "A doc string is available for each 'operator function' (it will later automatically include output of 'script --help' command )"
     ]
    },
    {
     "cell_type": "code",
     "collapsed": false,
     "input": [
      "help(time_average)"
     ],
     "language": "python",
     "metadata": {},
     "outputs": [
      {
       "output_type": "stream",
       "stream": "stdout",
       "text": [
        "Help on function time_average in module __main__:\n",
        "\n",
        "time_average(*args, **dic)\n",
        "    time_average : compute time average for all time steps\n",
        "    -------------------------------------------------------\n",
        "    \n",
        "    Apply operator timavg on the object/dataset to another grid, using CDO\n",
        "    \n",
        "    **References** : https://code.zmaw.de/projects/cdo/embedded/1.6.4/cdo.html#x1-3560002.8.14\n",
        "    \n",
        "    **Provider / contact** : climaf at meteo dot fr\n",
        "    \n",
        "    **Inputs** (in the order of CliMAF call):\n",
        "      - any dataset (but only one)\n",
        "    \n",
        "    **Mandatory arguments**: none\n",
        "    \n",
        "    **Optional arguments**: none\n",
        "    \n",
        "    **Output** : the time-averaged object\n",
        "    \n",
        "    **Climaf call example** ::\n",
        "     \n",
        "      >>> ds= .... #some dataset, with whatever variable\n",
        "      >>> ds_tavg=time_average(ds)\n",
        "    \n",
        "    **Side effects** : None\n",
        "    \n",
        "    **Implementation** : CDO call with operator ``timavg``,  through script mcdo.sh\n",
        "\n"
       ]
      }
     ],
     "prompt_number": 14
    },
    {
     "cell_type": "heading",
     "level": 3,
     "metadata": {},
     "source": [
      "Symbolically apply the script to a dataset, using the 'CliMAF operator', and have a look at object/symbol result"
     ]
    },
    {
     "cell_type": "code",
     "collapsed": false,
     "input": [
      "tas_avg=time_average(tas_ds)\n",
      "tas_avg"
     ],
     "language": "python",
     "metadata": {},
     "outputs": [
      {
       "metadata": {},
       "output_type": "pyout",
       "prompt_number": 15,
       "text": [
        "time_average(ds('*.*.AMIPV6ALB2G.r1i1p1.19800101-19820101.monthly.global.tas'))"
       ]
      }
     ],
     "prompt_number": 15
    },
    {
     "cell_type": "heading",
     "level": 1,
     "metadata": {},
     "source": [
      "5- From CliMAF objects to real files : exporting data out of CliMAF"
     ]
    },
    {
     "cell_type": "heading",
     "level": 3,
     "metadata": {},
     "source": [
      "The cache values are re-used whenever it's possible"
     ]
    },
    {
     "cell_type": "code",
     "collapsed": false,
     "input": [
      "cfile(tas_ds)"
     ],
     "language": "python",
     "metadata": {},
     "outputs": [
      {
       "output_type": "stream",
       "stream": "stderr",
       "text": [
        "INFO:root:driver.ceval : Object found in cache : select(ds('*.*.AMIPV6ALB2G.r1i1p1.19800101-19820101.monthly.global.tas'))\n"
       ]
      },
      {
       "metadata": {},
       "output_type": "pyout",
       "prompt_number": 16,
       "text": [
        "'/home/vignonl/tmp/climaf_cache/f7/6.nc'"
       ]
      }
     ],
     "prompt_number": 16
    },
    {
     "cell_type": "heading",
     "level": 3,
     "metadata": {},
     "source": [
      "Computation actually occurs when wanting to 'export' objects in some way : here as a file using 'cfile'"
     ]
    },
    {
     "cell_type": "code",
     "collapsed": false,
     "input": [
      "cfile(tas_avg)"
     ],
     "language": "python",
     "metadata": {},
     "outputs": [
      {
       "output_type": "stream",
       "stream": "stderr",
       "text": [
        "INFO:root:driver.ceval : nothing relevant found in cache for time_average(ds('*.*.AMIPV6ALB2G.r1i1p1.19800101-19820101.monthly.global.tas'))\n"
       ]
      },
      {
       "output_type": "stream",
       "stream": "stderr",
       "text": [
        "INFO:root:driver.ceval : Object found in cache : select(ds('*.*.AMIPV6ALB2G.r1i1p1.19800101-19820101.monthly.global.tas'))\n"
       ]
      },
      {
       "output_type": "stream",
       "stream": "stderr",
       "text": [
        "INFO:root:driver.ceval_script : Launching command:/cnrm/aster/data3/aster/vignonl/climaf/climaf/../scripts/time_average_basics.sh /home/vignonl/tmp/climaf_cache/47/d.nc \"/home/vignonl/tmp/climaf_cache/f7/6.nc\"\n"
       ]
      },
      {
       "output_type": "stream",
       "stream": "stderr",
       "text": [
        "INFO:root:cache.register : time_average(ds('*.*.AMIPV6ALB2G.r1i1p1.19800101-19820101.monthly.global.tas')) registered as /home/vignonl/tmp/climaf_cache/47/d.nc\n"
       ]
      },
      {
       "output_type": "stream",
       "stream": "stderr",
       "text": [
        "INFO:root:driver.ceval_script : Done in 0.6 s with command:/cnrm/aster/data3/aster/vignonl/climaf/climaf/../scripts/time_average_basics.sh /home/vignonl/tmp/climaf_cache/47/d.nc \"/home/vignonl/tmp/climaf_cache/f7/6.nc\"\n"
       ]
      },
      {
       "metadata": {},
       "output_type": "pyout",
       "prompt_number": 17,
       "text": [
        "'/home/vignonl/tmp/climaf_cache/47/d.nc'"
       ]
      }
     ],
     "prompt_number": 17
    },
    {
     "cell_type": "heading",
     "level": 3,
     "metadata": {},
     "source": [
      "Another export format : MaskedArrays (others could apply, as e.g. CDAT's MV)"
     ]
    },
    {
     "cell_type": "code",
     "collapsed": false,
     "input": [
      "tas_avg_MA=cMA(tas_avg)"
     ],
     "language": "python",
     "metadata": {},
     "outputs": [
      {
       "output_type": "stream",
       "stream": "stderr",
       "text": [
        "INFO:root:driver.ceval : Object found in cache : time_average(ds('*.*.AMIPV6ALB2G.r1i1p1.19800101-19820101.monthly.global.tas'))\n"
       ]
      }
     ],
     "prompt_number": 18
    },
    {
     "cell_type": "heading",
     "level": 3,
     "metadata": {},
     "source": [
      "Looking at the result"
     ]
    },
    {
     "cell_type": "code",
     "collapsed": false,
     "input": [
      "type(tas_avg_MA)"
     ],
     "language": "python",
     "metadata": {},
     "outputs": [
      {
       "metadata": {},
       "output_type": "pyout",
       "prompt_number": 19,
       "text": [
        "numpy.ma.core.MaskedArray"
       ]
      }
     ],
     "prompt_number": 19
    },
    {
     "cell_type": "code",
     "collapsed": false,
     "input": [
      "tas_avg_MA.shape"
     ],
     "language": "python",
     "metadata": {},
     "outputs": [
      {
       "metadata": {},
       "output_type": "pyout",
       "prompt_number": 20,
       "text": [
        "(128, 256)"
       ]
      }
     ],
     "prompt_number": 20
    },
    {
     "cell_type": "heading",
     "level": 1,
     "metadata": {},
     "source": [
      "6- Display a simple figure"
     ]
    },
    {
     "cell_type": "heading",
     "level": 3,
     "metadata": {},
     "source": [
      "Plot the data, first way : let us declare a 'CliMAF operator' for using binary 'ncview'"
     ]
    },
    {
     "cell_type": "code",
     "collapsed": false,
     "input": [
      "cscript('my_ncview' ,'ncview ${in}' , format=None)"
     ],
     "language": "python",
     "metadata": {},
     "outputs": [
      {
       "output_type": "stream",
       "stream": "stderr",
       "text": [
        "WARNING:root:operators.cscript : defining script my_ncview as output-less\n"
       ]
      },
      {
       "metadata": {},
       "output_type": "pyout",
       "prompt_number": 21,
       "text": [
        "<climaf.operators.cscript instance at 0x7fbd7c677f38>"
       ]
      }
     ],
     "prompt_number": 21
    },
    {
     "cell_type": "heading",
     "level": 3,
     "metadata": {},
     "source": [
      "Symbolically apply operator 'my_ncview' to the time-averaged dataset"
     ]
    },
    {
     "cell_type": "code",
     "collapsed": false,
     "input": [
      "vfig=my_ncview(tas_avg)\n",
      "vfig"
     ],
     "language": "python",
     "metadata": {},
     "outputs": [
      {
       "metadata": {},
       "output_type": "pyout",
       "prompt_number": 22,
       "text": [
        "my_ncview(time_average(ds('*.*.AMIPV6ALB2G.r1i1p1.19800101-19820101.monthly.global.tas')))"
       ]
      }
     ],
     "prompt_number": 22
    },
    {
     "cell_type": "heading",
     "level": 3,
     "metadata": {},
     "source": [
      "Basic display with ncview : 'exporting' the object here returns nothing but implies to launch the script (and hence have it displayed) [ Nothing will show on web-only demo ]"
     ]
    },
    {
     "cell_type": "code",
     "collapsed": false,
     "input": [
      "cshow(vfig)"
     ],
     "language": "python",
     "metadata": {},
     "outputs": [
      {
       "output_type": "stream",
       "stream": "stderr",
       "text": [
        "INFO:root:driver.ceval : nothing relevant found in cache for my_ncview(time_average(ds('*.*.AMIPV6ALB2G.r1i1p1.19800101-19820101.monthly.global.tas')))\n"
       ]
      },
      {
       "output_type": "stream",
       "stream": "stderr",
       "text": [
        "INFO:root:driver.ceval : Object found in cache : time_average(ds('*.*.AMIPV6ALB2G.r1i1p1.19800101-19820101.monthly.global.tas'))\n"
       ]
      },
      {
       "output_type": "stream",
       "stream": "stderr",
       "text": [
        "INFO:root:driver.ceval_script : Launching command:ncview \"/home/vignonl/tmp/climaf_cache/47/d.nc\"\n"
       ]
      }
     ],
     "prompt_number": 23
    },
    {
     "cell_type": "heading",
     "level": 1,
     "metadata": {},
     "source": [
      "7- An advanced figure"
     ]
    },
    {
     "cell_type": "heading",
     "level": 3,
     "metadata": {},
     "source": [
      "2nd plot : declare a script plot with PNG output. Here in NCL with a number of args for graphics settings"
     ]
    },
    {
     "cell_type": "code",
     "collapsed": false,
     "input": [
      "cscript('plotmap',\\\n",
      "        \"ncl \"+ cpath +\"/../scripts/plotmap.ncl infile=${in} plotname=${out} \\\n",
      "                    cmap=${color} vmin=${min} vmax=${max} vdelta=${delta} var=${var} \\\n",
      "                    title=${crs} scale=${scale} offset=${offset} units=${units}; convert ${out} -trim ${out}\",format=\"png\")"
     ],
     "language": "python",
     "metadata": {},
     "outputs": [
      {
       "output_type": "stream",
       "stream": "stderr",
       "text": [
        "WARNING:root:Redefining CliMAF script plotmap\n"
       ]
      },
      {
       "metadata": {},
       "output_type": "pyout",
       "prompt_number": 24,
       "text": [
        "<climaf.operators.cscript instance at 0x7fbd7c677c68>"
       ]
      }
     ],
     "prompt_number": 24
    },
    {
     "cell_type": "heading",
     "level": 3,
     "metadata": {},
     "source": [
      "Applying the operator"
     ]
    },
    {
     "cell_type": "code",
     "collapsed": false,
     "input": [
      "map=plotmap(tas_avg,color=\"BlueDarkRed18\", min=260, max=300, delta=4, scale=1, offset=0, units=\"K\")\n",
      "map"
     ],
     "language": "python",
     "metadata": {},
     "outputs": [
      {
       "metadata": {},
       "output_type": "pyout",
       "prompt_number": 25,
       "text": [
        "plotmap(time_average(ds('*.*.AMIPV6ALB2G.r1i1p1.19800101-19820101.monthly.global.tas')), color='BlueDarkRed18', delta=4, max=300, min=260, offset=0, scale=1, units='K')"
       ]
      }
     ],
     "prompt_number": 25
    },
    {
     "cell_type": "heading",
     "level": 3,
     "metadata": {},
     "source": [
      "Require the figure as a file; here, this leads to actually compute it (i.e. launch the script) "
     ]
    },
    {
     "cell_type": "code",
     "collapsed": false,
     "input": [
      "cfile(map)"
     ],
     "language": "python",
     "metadata": {},
     "outputs": [
      {
       "output_type": "stream",
       "stream": "stderr",
       "text": [
        "INFO:root:driver.ceval : nothing relevant found in cache for plotmap(time_average(ds('*.*.AMIPV6ALB2G.r1i1p1.19800101-19820101.monthly.global.tas')), color='BlueDarkRed18', delta=4, max=300, min=260, offset=0, scale=1, units='K')\n"
       ]
      },
      {
       "output_type": "stream",
       "stream": "stderr",
       "text": [
        "INFO:root:driver.ceval : Object found in cache : time_average(ds('*.*.AMIPV6ALB2G.r1i1p1.19800101-19820101.monthly.global.tas'))\n"
       ]
      },
      {
       "output_type": "stream",
       "stream": "stderr",
       "text": [
        "INFO:root:driver.ceval_script : Launching command:ncl /cnrm/aster/data3/aster/vignonl/climaf/climaf/../scripts/plotmap.ncl 'infile=\"/home/vignonl/tmp/climaf_cache/47/d.nc\"' 'plotname=\"/home/vignonl/tmp/climaf_cache/04/a.png\"'                     'cmap=\"BlueDarkRed18\"' 'vmin=260' 'vmax=300' 'vdelta=4' 'var=\"tas\"'                     'title=\"time_average(ds('*.*.AMIPV6ALB2G.r1i1p1.19800101-19820101.monthly.global.tas')) - \"' 'scale=1' 'offset=0' 'units=\"K\"'; convert \"/home/vignonl/tmp/climaf_cache/04/a.png\" -trim \"/home/vignonl/tmp/climaf_cache/04/a.png\"\n"
       ]
      },
      {
       "output_type": "stream",
       "stream": "stderr",
       "text": [
        "INFO:root:cache.register : plotmap(time_average(ds('*.*.AMIPV6ALB2G.r1i1p1.19800101-19820101.monthly.global.tas')), color='BlueDarkRed18', delta=4, max=300, min=260, offset=0, scale=1, units='K') registered as /home/vignonl/tmp/climaf_cache/04/a.png\n"
       ]
      },
      {
       "output_type": "stream",
       "stream": "stderr",
       "text": [
        "INFO:root:driver.ceval_script : Done in 2 s with command:ncl /cnrm/aster/data3/aster/vignonl/climaf/climaf/../scripts/plotmap.ncl 'infile=\"/home/vignonl/tmp/climaf_cache/47/d.nc\"' 'plotname=\"/home/vignonl/tmp/climaf_cache/04/a.png\"'                     'cmap=\"BlueDarkRed18\"' 'vmin=260' 'vmax=300' 'vdelta=4' 'var=\"tas\"'                     'title=\"time_average(ds('*.*.AMIPV6ALB2G.r1i1p1.19800101-19820101.monthly.global.tas')) - \"' 'scale=1' 'offset=0' 'units=\"K\"'; convert \"/home/vignonl/tmp/climaf_cache/04/a.png\" -trim \"/home/vignonl/tmp/climaf_cache/04/a.png\"\n"
       ]
      },
      {
       "metadata": {},
       "output_type": "pyout",
       "prompt_number": 26,
       "text": [
        "'/home/vignonl/tmp/climaf_cache/04/a.png'"
       ]
      }
     ],
     "prompt_number": 26
    },
    {
     "cell_type": "heading",
     "level": 3,
     "metadata": {},
     "source": [
      "'cshow' will display the figure using the file cache [ Nothing will show on web-only demo ]"
     ]
    },
    {
     "cell_type": "code",
     "collapsed": false,
     "input": [
      "cshow(map)"
     ],
     "language": "python",
     "metadata": {},
     "outputs": [
      {
       "output_type": "stream",
       "stream": "stderr",
       "text": [
        "INFO:root:driver.ceval : Object found in cache : plotmap(time_average(ds('*.*.AMIPV6ALB2G.r1i1p1.19800101-19820101.monthly.global.tas')), color='BlueDarkRed18', delta=4, max=300, min=260, offset=0, scale=1, units='K')\n"
       ]
      }
     ],
     "prompt_number": 27
    },
    {
     "cell_type": "heading",
     "level": 1,
     "metadata": {},
     "source": [
      "8- Mixing CliMAF basics and Python (and/or IPython)"
     ]
    },
    {
     "cell_type": "heading",
     "level": 3,
     "metadata": {},
     "source": [
      "A more realistic way of configuring the NCL-based plots, using Python features for graphics settings on the basis of on plotted variable"
     ]
    },
    {
     "cell_type": "heading",
     "level": 3,
     "metadata": {},
     "source": [
      "First define an auxiliary function"
     ]
    },
    {
     "cell_type": "code",
     "collapsed": false,
     "input": [
      "def map_graph_attributes(var) :\n",
      "    rep=dict()\n",
      "    rep[\"offset\"]=0.\n",
      "    rep[\"scale\"]=1.\n",
      "    rep[\"color\"]=\"BlueDarkRed18\"\n",
      "    if var=='tas' :\n",
      "        rep[\"offset\"]=-273.15 ;  rep[\"scale\"]=1.0 ; rep[\"units\"]=\"C\"\n",
      "        rep[\"min\"]=-30  ; rep[\"max\"]=30 ; rep[\"delta\"]=2.\n",
      "    return rep"
     ],
     "language": "python",
     "metadata": {},
     "outputs": [],
     "prompt_number": 28
    },
    {
     "cell_type": "heading",
     "level": 3,
     "metadata": {},
     "source": [
      "This simplifies supplying graphics attributes"
     ]
    },
    {
     "cell_type": "code",
     "collapsed": false,
     "input": [
      "map2=plotmap(tas_avg,crs=\"title\",**map_graph_attributes(varOf(tas_avg)))\n",
      "print(map2)"
     ],
     "language": "python",
     "metadata": {},
     "outputs": [
      {
       "output_type": "stream",
       "stream": "stdout",
       "text": [
        "plotmap(time_average(ds('*.*.AMIPV6ALB2G.r1i1p1.19800101-19820101.monthly.global.tas')), color='BlueDarkRed18', crs='title', delta=2.0, max=30, min=-30, offset=-273.15, scale=1.0, units='C')\n"
       ]
      }
     ],
     "prompt_number": 29
    },
    {
     "cell_type": "heading",
     "level": 3,
     "metadata": {},
     "source": [
      "Let launch the computation of the figure"
     ]
    },
    {
     "cell_type": "code",
     "collapsed": false,
     "input": [
      "figfile=cfile(map2) ; print(figfile)"
     ],
     "language": "python",
     "metadata": {},
     "outputs": [
      {
       "output_type": "stream",
       "stream": "stderr",
       "text": [
        "INFO:root:driver.ceval : nothing relevant found in cache for plotmap(time_average(ds('*.*.AMIPV6ALB2G.r1i1p1.19800101-19820101.monthly.global.tas')), color='BlueDarkRed18', crs='title', delta=2.0, max=30, min=-30, offset=-273.15, scale=1.0, units='C')\n"
       ]
      },
      {
       "output_type": "stream",
       "stream": "stderr",
       "text": [
        "INFO:root:driver.ceval : Object found in cache : time_average(ds('*.*.AMIPV6ALB2G.r1i1p1.19800101-19820101.monthly.global.tas'))\n"
       ]
      },
      {
       "output_type": "stream",
       "stream": "stderr",
       "text": [
        "INFO:root:driver.ceval_script : Launching command:ncl /cnrm/aster/data3/aster/vignonl/climaf/climaf/../scripts/plotmap.ncl 'infile=\"/home/vignonl/tmp/climaf_cache/47/d.nc\"' 'plotname=\"/home/vignonl/tmp/climaf_cache/7e/a.png\"'                     'cmap=\"BlueDarkRed18\"' 'vmin=-30' 'vmax=30' 'vdelta=2.0' 'var=\"tas\"'                     'title=\"title\"' 'scale=1.0' 'offset=-273.15' 'units=\"C\"'; convert \"/home/vignonl/tmp/climaf_cache/7e/a.png\" -trim \"/home/vignonl/tmp/climaf_cache/7e/a.png\"\n"
       ]
      },
      {
       "output_type": "stream",
       "stream": "stderr",
       "text": [
        "INFO:root:cache.register : plotmap(time_average(ds('*.*.AMIPV6ALB2G.r1i1p1.19800101-19820101.monthly.global.tas')), color='BlueDarkRed18', crs='title', delta=2.0, max=30, min=-30, offset=-273.15, scale=1.0, units='C') registered as /home/vignonl/tmp/climaf_cache/7e/a.png\n"
       ]
      },
      {
       "output_type": "stream",
       "stream": "stderr",
       "text": [
        "INFO:root:driver.ceval_script : Done in 2 s with command:ncl /cnrm/aster/data3/aster/vignonl/climaf/climaf/../scripts/plotmap.ncl 'infile=\"/home/vignonl/tmp/climaf_cache/47/d.nc\"' 'plotname=\"/home/vignonl/tmp/climaf_cache/7e/a.png\"'                     'cmap=\"BlueDarkRed18\"' 'vmin=-30' 'vmax=30' 'vdelta=2.0' 'var=\"tas\"'                     'title=\"title\"' 'scale=1.0' 'offset=-273.15' 'units=\"C\"'; convert \"/home/vignonl/tmp/climaf_cache/7e/a.png\" -trim \"/home/vignonl/tmp/climaf_cache/7e/a.png\"\n"
       ]
      },
      {
       "output_type": "stream",
       "stream": "stdout",
       "text": [
        "/home/vignonl/tmp/climaf_cache/7e/a.png\n"
       ]
      }
     ],
     "prompt_number": 30
    },
    {
     "cell_type": "heading",
     "level": 3,
     "metadata": {},
     "source": [
      "Bonus : using Ipython Notebook features for inline display"
     ]
    },
    {
     "cell_type": "code",
     "collapsed": false,
     "input": [
      "from IPython.display import Image\n",
      "Image(filename=figfile)"
     ],
     "language": "python",
     "metadata": {},
     "outputs": [
      {
       "metadata": {},
       "output_type": "pyout",
       "png": "[encoded data removed]",
       "prompt_number": 31,
       "text": [
        "<IPython.core.display.Image at 0x7fbd8ae6e7d0>"
       ]
      }
     ],
     "prompt_number": 31
    },
    {
     "cell_type": "heading",
     "level": 1,
     "metadata": {},
     "source": [
      "9- Remapping data"
     ]
    },
    {
     "cell_type": "heading",
     "level": 3,
     "metadata": {},
     "source": [
      "For remapping a dataset to a named grid (known by cdo), let us use operator 'regridn'"
     ]
    },
    {
     "cell_type": "code",
     "collapsed": false,
     "input": [
      "dgr=regridn(tas_avg,cdogrid=\"r90x45\") \n",
      "#cshow(ncview(dgr))\n",
      "\n",
      "#mapgr=plotmap(dgr, min=260, max=300, delta=4)\n",
      "#mapgr\n",
      "#figr=cfile(mapgr)\n",
      "#from IPython.display import Image\n",
      "#Image(filename=figr)"
     ],
     "language": "python",
     "metadata": {},
     "outputs": [],
     "prompt_number": 32
    },
    {
     "cell_type": "heading",
     "level": 3,
     "metadata": {},
     "source": [
      "An other way is to regrid to the grid of another dataset, let's use operator 'regrid' (here, a trivial case : same grid)"
     ]
    },
    {
     "cell_type": "code",
     "collapsed": false,
     "input": [
      "dg2=ds(experiment=\"AMIPV6ALB2G\", variable=\"rst\", period=\"1980-1980\") \n",
      "#dgr2=regrid(tas_ds ou dg2, dgr) #? pb\n",
      "dgr2=regrid(tas_ds, dg2) #pb avec tas_avg\n",
      "cshow(ncview(dgr2))"
     ],
     "language": "python",
     "metadata": {},
     "outputs": [
      {
       "output_type": "stream",
       "stream": "stderr",
       "text": [
        "INFO:root:driver.ceval : nothing relevant found in cache for ncview(regrid(ds('*.*.AMIPV6ALB2G.r1i1p1.19800101-19820101.monthly.global.tas'), ds('*.*.AMIPV6ALB2G.r1i1p1.19800101-19810101.monthly.global.rst')))\n"
       ]
      },
      {
       "output_type": "stream",
       "stream": "stderr",
       "text": [
        "INFO:root:driver.ceval : nothing relevant found in cache for regrid(ds('*.*.AMIPV6ALB2G.r1i1p1.19800101-19820101.monthly.global.tas'), ds('*.*.AMIPV6ALB2G.r1i1p1.19800101-19810101.monthly.global.rst'))\n"
       ]
      },
      {
       "output_type": "stream",
       "stream": "stderr",
       "text": [
        "INFO:root:driver.ceval : Object found in cache : select(ds('*.*.AMIPV6ALB2G.r1i1p1.19800101-19820101.monthly.global.tas'))\n"
       ]
      },
      {
       "output_type": "stream",
       "stream": "stderr",
       "text": [
        "INFO:root:driver.ceval : nothing relevant found in cache for select(ds('*.*.AMIPV6ALB2G.r1i1p1.19800101-19810101.monthly.global.rst'))\n"
       ]
      },
      {
       "output_type": "stream",
       "stream": "stderr",
       "text": [
        "INFO:root:driver.ceval_script : Launching command:/cnrm/aster/data3/aster/vignonl/climaf/climaf/../scripts/mcdo.sh \"\" /home/vignonl/tmp/climaf_cache/3a/5.nc \"rst\" \"19800101-19810101\" \"\" \"/cnrm/aster/data3/aster/vignonl/climaf/climaf/../examples/data/AMIPV6ALB2G/A/AMIPV6ALB2GPL1980.nc /cnrm/aster/data3/aster/vignonl/climaf/climaf/../examples/data/AMIPV6ALB2G/L/AMIPV6ALB2GSFX1980.nc\" \n"
       ]
      },
      {
       "output_type": "stream",
       "stream": "stderr",
       "text": [
        "INFO:root:cache.register : select(ds('*.*.AMIPV6ALB2G.r1i1p1.19800101-19810101.monthly.global.rst')) registered as /home/vignonl/tmp/climaf_cache/3a/5.nc\n"
       ]
      },
      {
       "output_type": "stream",
       "stream": "stderr",
       "text": [
        "INFO:root:driver.ceval_script : Done in 0.7 s with command:/cnrm/aster/data3/aster/vignonl/climaf/climaf/../scripts/mcdo.sh \"\" /home/vignonl/tmp/climaf_cache/3a/5.nc \"rst\" \"19800101-19810101\" \"\" \"/cnrm/aster/data3/aster/vignonl/climaf/climaf/../examples/data/AMIPV6ALB2G/A/AMIPV6ALB2GPL1980.nc /cnrm/aster/data3/aster/vignonl/climaf/climaf/../examples/data/AMIPV6ALB2G/L/AMIPV6ALB2GSFX1980.nc\" \n"
       ]
      },
      {
       "output_type": "stream",
       "stream": "stderr",
       "text": [
        "INFO:root:driver.ceval_script : Launching command:/cnrm/aster/data3/aster/vignonl/climaf/climaf/../scripts/regrid.sh \"/home/vignonl/tmp/climaf_cache/f7/6.nc\" \"/home/vignonl/tmp/climaf_cache/3a/5.nc\" /home/vignonl/tmp/climaf_cache/dd/e.nc \n"
       ]
      },
      {
       "output_type": "stream",
       "stream": "stderr",
       "text": [
        "INFO:root:cache.register : regrid(ds('*.*.AMIPV6ALB2G.r1i1p1.19800101-19820101.monthly.global.tas'), ds('*.*.AMIPV6ALB2G.r1i1p1.19800101-19810101.monthly.global.rst')) registered as /home/vignonl/tmp/climaf_cache/dd/e.nc\n"
       ]
      },
      {
       "output_type": "stream",
       "stream": "stderr",
       "text": [
        "INFO:root:driver.ceval_script : Done in 0.9 s with command:/cnrm/aster/data3/aster/vignonl/climaf/climaf/../scripts/regrid.sh \"/home/vignonl/tmp/climaf_cache/f7/6.nc\" \"/home/vignonl/tmp/climaf_cache/3a/5.nc\" /home/vignonl/tmp/climaf_cache/dd/e.nc \n"
       ]
      },
      {
       "output_type": "stream",
       "stream": "stderr",
       "text": [
        "INFO:root:driver.ceval_script : Launching command:ncview \"/home/vignonl/tmp/climaf_cache/dd/e.nc\" &\n"
       ]
      }
     ],
     "prompt_number": 33
    },
    {
     "cell_type": "code",
     "collapsed": false,
     "input": [
      "#cscript('minus','cdo sub ${in_1} ${in_2} ${out}')\n",
      "#diff=minus(tas_ds,dgr2)\n",
      "#cshow(my_ncview(diff))"
     ],
     "language": "python",
     "metadata": {},
     "outputs": [],
     "prompt_number": 44
    },
    {
     "cell_type": "heading",
     "level": 1,
     "metadata": {},
     "source": [
      "10- Computing an annual cycle"
     ]
    },
    {
     "cell_type": "heading",
     "level": 3,
     "metadata": {},
     "source": [
      "Let us compute an annual cycle, using swiss knife operator 'ccdo' (which applies cdo on a single dataset or object, with a cdo operator as argument), and look at it"
     ]
    },
    {
     "cell_type": "code",
     "collapsed": false,
     "input": [
      "anncycle=ccdo(tas_ds,operator='ymonavg')\n",
      "cshow(ncview(anncycle))"
     ],
     "language": "python",
     "metadata": {},
     "outputs": [
      {
       "output_type": "stream",
       "stream": "stderr",
       "text": [
        "INFO:root:driver.ceval : nothing relevant found in cache for ncview(ccdo(ds('*.*.AMIPV6ALB2G.r1i1p1.19800101-19820101.monthly.global.tas'), operator='ymonavg'))\n"
       ]
      },
      {
       "output_type": "stream",
       "stream": "stderr",
       "text": [
        "INFO:root:driver.ceval : nothing relevant found in cache for ccdo(ds('*.*.AMIPV6ALB2G.r1i1p1.19800101-19820101.monthly.global.tas'), operator='ymonavg')\n"
       ]
      },
      {
       "output_type": "stream",
       "stream": "stderr",
       "text": [
        "INFO:root:driver.ceval_script : Launching command:/cnrm/aster/data3/aster/vignonl/climaf/climaf/../scripts/mcdo.sh ymonavg /home/vignonl/tmp/climaf_cache/70/a.nc \"tas\" \"19800101-19820101\" \"\" \"/cnrm/aster/data3/aster/vignonl/climaf/climaf/../examples/data/AMIPV6ALB2G/A/AMIPV6ALB2GPL1980.nc /cnrm/aster/data3/aster/vignonl/climaf/climaf/../examples/data/AMIPV6ALB2G/A/AMIPV6ALB2GPL1981.nc /cnrm/aster/data3/aster/vignonl/climaf/climaf/../examples/data/AMIPV6ALB2G/L/AMIPV6ALB2GSFX1980.nc /cnrm/aster/data3/aster/vignonl/climaf/climaf/../examples/data/AMIPV6ALB2G/L/AMIPV6ALB2GSFX1981.nc\"\n"
       ]
      },
      {
       "output_type": "stream",
       "stream": "stderr",
       "text": [
        "INFO:root:cache.register : ccdo(ds('*.*.AMIPV6ALB2G.r1i1p1.19800101-19820101.monthly.global.tas'), operator='ymonavg') registered as /home/vignonl/tmp/climaf_cache/70/a.nc\n"
       ]
      },
      {
       "output_type": "stream",
       "stream": "stderr",
       "text": [
        "INFO:root:driver.ceval_script : Done in 0.9 s with command:/cnrm/aster/data3/aster/vignonl/climaf/climaf/../scripts/mcdo.sh ymonavg /home/vignonl/tmp/climaf_cache/70/a.nc \"tas\" \"19800101-19820101\" \"\" \"/cnrm/aster/data3/aster/vignonl/climaf/climaf/../examples/data/AMIPV6ALB2G/A/AMIPV6ALB2GPL1980.nc /cnrm/aster/data3/aster/vignonl/climaf/climaf/../examples/data/AMIPV6ALB2G/A/AMIPV6ALB2GPL1981.nc /cnrm/aster/data3/aster/vignonl/climaf/climaf/../examples/data/AMIPV6ALB2G/L/AMIPV6ALB2GSFX1980.nc /cnrm/aster/data3/aster/vignonl/climaf/climaf/../examples/data/AMIPV6ALB2G/L/AMIPV6ALB2GSFX1981.nc\"\n"
       ]
      },
      {
       "output_type": "stream",
       "stream": "stderr",
       "text": [
        "INFO:root:driver.ceval_script : Launching command:ncview \"/home/vignonl/tmp/climaf_cache/70/a.nc\" &\n"
       ]
      }
     ],
     "prompt_number": 34
    },
    {
     "cell_type": "heading",
     "level": 3,
     "metadata": {},
     "source": [
      "Define the average annual cycle on a latlon box using operator 'llbox'"
     ]
    },
    {
     "cell_type": "code",
     "collapsed": false,
     "input": [
      "extract=llbox(anncycle, latmin=30, latmax=60, lonmin=-30, lonmax=30)\n",
      "cshow(ncview(extract))\n",
      "\n",
      "#map_extract=plotmap(extract, min=260, max=300, delta=4)\n",
      "#map_extract\n",
      "#figr=cfile(map_extract)\n",
      "#from IPython.display import Image\n",
      "#Image(filename=map_extract)"
     ],
     "language": "python",
     "metadata": {},
     "outputs": [
      {
       "output_type": "stream",
       "stream": "stderr",
       "text": [
        "INFO:root:driver.ceval : nothing relevant found in cache for ncview(llbox(ccdo(ds('*.*.AMIPV6ALB2G.r1i1p1.19800101-19820101.monthly.global.tas'), operator='ymonavg'), latmax=60, latmin=30, lonmax=30, lonmin=-30))\n"
       ]
      },
      {
       "output_type": "stream",
       "stream": "stderr",
       "text": [
        "INFO:root:driver.ceval : nothing relevant found in cache for llbox(ccdo(ds('*.*.AMIPV6ALB2G.r1i1p1.19800101-19820101.monthly.global.tas'), operator='ymonavg'), latmax=60, latmin=30, lonmax=30, lonmin=-30)\n"
       ]
      },
      {
       "output_type": "stream",
       "stream": "stderr",
       "text": [
        "INFO:root:driver.ceval : Object found in cache : ccdo(ds('*.*.AMIPV6ALB2G.r1i1p1.19800101-19820101.monthly.global.tas'), operator='ymonavg')\n"
       ]
      },
      {
       "output_type": "stream",
       "stream": "stderr",
       "text": [
        "INFO:root:driver.ceval_script : Launching command:/cnrm/aster/data3/aster/vignonl/climaf/climaf/../scripts/mcdo.sh \"\"  /home/vignonl/tmp/climaf_cache/e5/1.nc \"tas\" \"19800101-19820101\" 30,60,-30,30 \"/home/vignonl/tmp/climaf_cache/70/a.nc\"\n"
       ]
      },
      {
       "output_type": "stream",
       "stream": "stderr",
       "text": [
        "INFO:root:cache.register : llbox(ccdo(ds('*.*.AMIPV6ALB2G.r1i1p1.19800101-19820101.monthly.global.tas'), operator='ymonavg'), latmax=60, latmin=30, lonmax=30, lonmin=-30) registered as /home/vignonl/tmp/climaf_cache/e5/1.nc\n"
       ]
      },
      {
       "output_type": "stream",
       "stream": "stderr",
       "text": [
        "INFO:root:driver.ceval_script : Done in 0.6 s with command:/cnrm/aster/data3/aster/vignonl/climaf/climaf/../scripts/mcdo.sh \"\"  /home/vignonl/tmp/climaf_cache/e5/1.nc \"tas\" \"19800101-19820101\" 30,60,-30,30 \"/home/vignonl/tmp/climaf_cache/70/a.nc\"\n"
       ]
      },
      {
       "output_type": "stream",
       "stream": "stderr",
       "text": [
        "INFO:root:driver.ceval_script : Launching command:ncview \"/home/vignonl/tmp/climaf_cache/e5/1.nc\" &\n"
       ]
      }
     ],
     "prompt_number": 35
    },
    {
     "cell_type": "heading",
     "level": 3,
     "metadata": {},
     "source": [
      "Let's show the space average of annual cycle (this triggers computation)"
     ]
    },
    {
     "cell_type": "code",
     "collapsed": false,
     "input": [
      "space_average=ccdo(extract,operator='fldavg')\n",
      "cshow(ncview(space_average))"
     ],
     "language": "python",
     "metadata": {},
     "outputs": [
      {
       "output_type": "stream",
       "stream": "stderr",
       "text": [
        "INFO:root:driver.ceval : nothing relevant found in cache for ncview(ccdo(llbox(ccdo(ds('*.*.AMIPV6ALB2G.r1i1p1.19800101-19820101.monthly.global.tas'), operator='ymonavg'), latmax=60, latmin=30, lonmax=30, lonmin=-30), operator='fldavg'))\n"
       ]
      },
      {
       "output_type": "stream",
       "stream": "stderr",
       "text": [
        "INFO:root:driver.ceval : nothing relevant found in cache for ccdo(llbox(ccdo(ds('*.*.AMIPV6ALB2G.r1i1p1.19800101-19820101.monthly.global.tas'), operator='ymonavg'), latmax=60, latmin=30, lonmax=30, lonmin=-30), operator='fldavg')\n"
       ]
      },
      {
       "output_type": "stream",
       "stream": "stderr",
       "text": [
        "INFO:root:driver.ceval : Object found in cache : llbox(ccdo(ds('*.*.AMIPV6ALB2G.r1i1p1.19800101-19820101.monthly.global.tas'), operator='ymonavg'), latmax=60, latmin=30, lonmax=30, lonmin=-30)\n"
       ]
      },
      {
       "output_type": "stream",
       "stream": "stderr",
       "text": [
        "INFO:root:driver.ceval_script : Launching command:/cnrm/aster/data3/aster/vignonl/climaf/climaf/../scripts/mcdo.sh fldavg /home/vignonl/tmp/climaf_cache/b3/d.nc \"tas\" \"19800101-19820101\" \"\" \"/home/vignonl/tmp/climaf_cache/e5/1.nc\"\n"
       ]
      },
      {
       "output_type": "stream",
       "stream": "stderr",
       "text": [
        "INFO:root:cache.register : ccdo(llbox(ccdo(ds('*.*.AMIPV6ALB2G.r1i1p1.19800101-19820101.monthly.global.tas'), operator='ymonavg'), latmax=60, latmin=30, lonmax=30, lonmin=-30), operator='fldavg') registered as /home/vignonl/tmp/climaf_cache/b3/d.nc\n"
       ]
      },
      {
       "output_type": "stream",
       "stream": "stderr",
       "text": [
        "INFO:root:driver.ceval_script : Done in 0.6 s with command:/cnrm/aster/data3/aster/vignonl/climaf/climaf/../scripts/mcdo.sh fldavg /home/vignonl/tmp/climaf_cache/b3/d.nc \"tas\" \"19800101-19820101\" \"\" \"/home/vignonl/tmp/climaf_cache/e5/1.nc\"\n"
       ]
      },
      {
       "output_type": "stream",
       "stream": "stderr",
       "text": [
        "INFO:root:driver.ceval_script : Launching command:ncview \"/home/vignonl/tmp/climaf_cache/b3/d.nc\" &\n"
       ]
      }
     ],
     "prompt_number": 36
    },
    {
     "cell_type": "heading",
     "level": 3,
     "metadata": {},
     "source": [
      "Creating a figure with standard operator timeplot"
     ]
    },
    {
     "cell_type": "code",
     "collapsed": false,
     "input": [
      "fig_avg=timeplot(space_average, title=\"Annual cycle\")"
     ],
     "language": "python",
     "metadata": {},
     "outputs": [],
     "prompt_number": 37
    },
    {
     "cell_type": "heading",
     "level": 3,
     "metadata": {},
     "source": [
      "Get the figure computed, and get its filename in CliMAF file cache"
     ]
    },
    {
     "cell_type": "code",
     "collapsed": false,
     "input": [
      "figfile=cfile(fig_avg)\n",
      "\n",
      "from IPython.display import Image\n",
      "Image(filename=figfile)"
     ],
     "language": "python",
     "metadata": {},
     "outputs": [
      {
       "output_type": "stream",
       "stream": "stderr",
       "text": [
        "INFO:root:driver.ceval : nothing relevant found in cache for timeplot(ccdo(llbox(ccdo(ds('*.*.AMIPV6ALB2G.r1i1p1.19800101-19820101.monthly.global.tas'), operator='ymonavg'), latmax=60, latmin=30, lonmax=30, lonmin=-30), operator='fldavg'), title='Annual cycle')\n"
       ]
      },
      {
       "output_type": "stream",
       "stream": "stderr",
       "text": [
        "INFO:root:driver.ceval : Object found in cache : ccdo(llbox(ccdo(ds('*.*.AMIPV6ALB2G.r1i1p1.19800101-19820101.monthly.global.tas'), operator='ymonavg'), latmax=60, latmin=30, lonmax=30, lonmin=-30), operator='fldavg')\n"
       ]
      },
      {
       "output_type": "stream",
       "stream": "stderr",
       "text": [
        "INFO:root:driver.ceval_script : Launching command:/cnrm/aster/data3/aster/vignonl/climaf/climaf/../scripts/timeplot.sh \"/home/vignonl/tmp/climaf_cache/b3/d.nc\" /home/vignonl/tmp/climaf_cache/9d/d.png \"tas\" Annual cycle\n"
       ]
      },
      {
       "output_type": "stream",
       "stream": "stderr",
       "text": [
        "INFO:root:cache.register : timeplot(ccdo(llbox(ccdo(ds('*.*.AMIPV6ALB2G.r1i1p1.19800101-19820101.monthly.global.tas'), operator='ymonavg'), latmax=60, latmin=30, lonmax=30, lonmin=-30), operator='fldavg'), title='Annual cycle') registered as /home/vignonl/tmp/climaf_cache/9d/d.png\n"
       ]
      },
      {
       "output_type": "stream",
       "stream": "stderr",
       "text": [
        "INFO:root:driver.ceval_script : Done in 0.6 s with command:/cnrm/aster/data3/aster/vignonl/climaf/climaf/../scripts/timeplot.sh \"/home/vignonl/tmp/climaf_cache/b3/d.nc\" /home/vignonl/tmp/climaf_cache/9d/d.png \"tas\" Annual cycle\n"
       ]
      },
      {
       "metadata": {},
       "output_type": "pyout",
       "png": "[encoded data removed]",
       "prompt_number": 38,
       "text": [
        "<IPython.core.display.Image at 0x7fbd8ae6e4d0>"
       ]
      }
     ],
     "prompt_number": 38
    },
    {
     "cell_type": "heading",
     "level": 1,
     "metadata": {},
     "source": [
      "11- Derived variables, the easy way"
     ]
    },
    {
     "cell_type": "heading",
     "level": 3,
     "metadata": {},
     "source": [
      "Define a dataset using a variable name that is not in data files - i.e. a 'derived' variable"
     ]
    },
    {
     "cell_type": "code",
     "collapsed": false,
     "input": [
      "creShortTop=ds(experiment=\"AMIPV6ALB2G\",variable=\"crest\")"
     ],
     "language": "python",
     "metadata": {},
     "outputs": [],
     "prompt_number": 39
    },
    {
     "cell_type": "heading",
     "level": 3,
     "metadata": {},
     "source": [
      "Declare a new 'CliMAF operator', to be used for computing the derived variable"
     ]
    },
    {
     "cell_type": "code",
     "collapsed": false,
     "input": [
      "cscript('minus','cdo sub ${in_1} ${in_2} ${out}')"
     ],
     "language": "python",
     "metadata": {},
     "outputs": [
      {
       "metadata": {},
       "output_type": "pyout",
       "prompt_number": 40,
       "text": [
        "<climaf.operators.cscript instance at 0x7fbd7c1a0cb0>"
       ]
      }
     ],
     "prompt_number": 40
    },
    {
     "cell_type": "heading",
     "level": 3,
     "metadata": {},
     "source": [
      "Tell how the derived variable is derived using operator 'minus' with inputs defined as similar datasets with alternate variables"
     ]
    },
    {
     "cell_type": "code",
     "collapsed": false,
     "input": [
      "derive('crest','minus','rst','rstcs')"
     ],
     "language": "python",
     "metadata": {},
     "outputs": [],
     "prompt_number": 41
    },
    {
     "cell_type": "heading",
     "level": 3,
     "metadata": {},
     "source": [
      "You can use the 'derived' dataset in any expression; computation will occur when needed"
     ]
    },
    {
     "cell_type": "code",
     "collapsed": false,
     "input": [
      "cshow(my_ncview(creShortTop))"
     ],
     "language": "python",
     "metadata": {},
     "outputs": [
      {
       "output_type": "stream",
       "stream": "stderr",
       "text": [
        "INFO:root:driver.ceval : nothing relevant found in cache for my_ncview(ds('*.*.AMIPV6ALB2G.r1i1p1.19800101-19820101.monthly.global.crest'))\n"
       ]
      },
      {
       "output_type": "stream",
       "stream": "stderr",
       "text": [
        "INFO:root:driver.ceval : nothing relevant found in cache for minus(ds('*.*.AMIPV6ALB2G.r1i1p1.19800101-19820101.monthly.global.rst'), ds('*.*.AMIPV6ALB2G.r1i1p1.19800101-19820101.monthly.global.rstcs'))\n"
       ]
      },
      {
       "output_type": "stream",
       "stream": "stderr",
       "text": [
        "INFO:root:driver.ceval : partial result found in cache for select(ds('*.*.AMIPV6ALB2G.r1i1p1.19800101-19820101.monthly.global.rst')) : select(ds('*.*.AMIPV6ALB2G.r1i1p1.19800101-19810101.monthly.global.rst'))\n"
       ]
      },
      {
       "output_type": "stream",
       "stream": "stderr",
       "text": [
        "INFO:root:driver.ceval : nothing relevant found in cache for select(ds('*.*.AMIPV6ALB2G.r1i1p1.19810101-19820101.monthly.global.rst'))\n"
       ]
      },
      {
       "output_type": "stream",
       "stream": "stderr",
       "text": [
        "INFO:root:driver.ceval_script : Launching command:/cnrm/aster/data3/aster/vignonl/climaf/climaf/../scripts/mcdo.sh \"\" /home/vignonl/tmp/climaf_cache/1f/0.nc \"rst\" \"19810101-19820101\" \"\" \"/cnrm/aster/data3/aster/vignonl/climaf/climaf/../examples/data/AMIPV6ALB2G/A/AMIPV6ALB2GPL1981.nc /cnrm/aster/data3/aster/vignonl/climaf/climaf/../examples/data/AMIPV6ALB2G/L/AMIPV6ALB2GSFX1981.nc\" \n"
       ]
      },
      {
       "output_type": "stream",
       "stream": "stderr",
       "text": [
        "INFO:root:cache.register : select(ds('*.*.AMIPV6ALB2G.r1i1p1.19810101-19820101.monthly.global.rst')) registered as /home/vignonl/tmp/climaf_cache/1f/0.nc\n"
       ]
      },
      {
       "output_type": "stream",
       "stream": "stderr",
       "text": [
        "INFO:root:driver.ceval_script : Done in 0.6 s with command:/cnrm/aster/data3/aster/vignonl/climaf/climaf/../scripts/mcdo.sh \"\" /home/vignonl/tmp/climaf_cache/1f/0.nc \"rst\" \"19810101-19820101\" \"\" \"/cnrm/aster/data3/aster/vignonl/climaf/climaf/../examples/data/AMIPV6ALB2G/A/AMIPV6ALB2GPL1981.nc /cnrm/aster/data3/aster/vignonl/climaf/climaf/../examples/data/AMIPV6ALB2G/L/AMIPV6ALB2GSFX1981.nc\" \n"
       ]
      },
      {
       "output_type": "stream",
       "stream": "stderr",
       "text": [
        "INFO:root:driver.ceval : discarding cached value for select(ds('*.*.AMIPV6ALB2G.r1i1p1.19800101-19810101.monthly.global.rst'))\n"
       ]
      },
      {
       "output_type": "stream",
       "stream": "stderr",
       "text": [
        "INFO:root:driver.ceval : discarding cached value for select(ds('*.*.AMIPV6ALB2G.r1i1p1.19810101-19820101.monthly.global.rst'))\n"
       ]
      },
      {
       "output_type": "stream",
       "stream": "stderr",
       "text": [
        "INFO:root:cache.register : select(ds('*.*.AMIPV6ALB2G.r1i1p1.19800101-19820101.monthly.global.rst')) registered as /home/vignonl/tmp/climaf_cache/76/0.nc\n"
       ]
      },
      {
       "output_type": "stream",
       "stream": "stderr",
       "text": [
        "INFO:root:driver.ceval : nothing relevant found in cache for select(ds('*.*.AMIPV6ALB2G.r1i1p1.19800101-19820101.monthly.global.rstcs'))\n"
       ]
      },
      {
       "output_type": "stream",
       "stream": "stderr",
       "text": [
        "INFO:root:driver.ceval_script : Launching command:/cnrm/aster/data3/aster/vignonl/climaf/climaf/../scripts/mcdo.sh \"\" /home/vignonl/tmp/climaf_cache/95/4.nc \"rstcs\" \"19800101-19820101\" \"\" \"/cnrm/aster/data3/aster/vignonl/climaf/climaf/../examples/data/AMIPV6ALB2G/A/AMIPV6ALB2GPL1980.nc /cnrm/aster/data3/aster/vignonl/climaf/climaf/../examples/data/AMIPV6ALB2G/A/AMIPV6ALB2GPL1981.nc /cnrm/aster/data3/aster/vignonl/climaf/climaf/../examples/data/AMIPV6ALB2G/L/AMIPV6ALB2GSFX1980.nc /cnrm/aster/data3/aster/vignonl/climaf/climaf/../examples/data/AMIPV6ALB2G/L/AMIPV6ALB2GSFX1981.nc\" \n"
       ]
      },
      {
       "output_type": "stream",
       "stream": "stderr",
       "text": [
        "INFO:root:cache.register : select(ds('*.*.AMIPV6ALB2G.r1i1p1.19800101-19820101.monthly.global.rstcs')) registered as /home/vignonl/tmp/climaf_cache/95/4.nc\n"
       ]
      },
      {
       "output_type": "stream",
       "stream": "stderr",
       "text": [
        "INFO:root:driver.ceval_script : Done in 1 s with command:/cnrm/aster/data3/aster/vignonl/climaf/climaf/../scripts/mcdo.sh \"\" /home/vignonl/tmp/climaf_cache/95/4.nc \"rstcs\" \"19800101-19820101\" \"\" \"/cnrm/aster/data3/aster/vignonl/climaf/climaf/../examples/data/AMIPV6ALB2G/A/AMIPV6ALB2GPL1980.nc /cnrm/aster/data3/aster/vignonl/climaf/climaf/../examples/data/AMIPV6ALB2G/A/AMIPV6ALB2GPL1981.nc /cnrm/aster/data3/aster/vignonl/climaf/climaf/../examples/data/AMIPV6ALB2G/L/AMIPV6ALB2GSFX1980.nc /cnrm/aster/data3/aster/vignonl/climaf/climaf/../examples/data/AMIPV6ALB2G/L/AMIPV6ALB2GSFX1981.nc\" \n"
       ]
      },
      {
       "output_type": "stream",
       "stream": "stderr",
       "text": [
        "INFO:root:driver.ceval_script : Launching command:cdo sub \"/home/vignonl/tmp/climaf_cache/76/0.nc\" \"/home/vignonl/tmp/climaf_cache/95/4.nc\" /home/vignonl/tmp/climaf_cache/c2/2.nc\n"
       ]
      },
      {
       "output_type": "stream",
       "stream": "stderr",
       "text": [
        "INFO:root:cache.register : minus(ds('*.*.AMIPV6ALB2G.r1i1p1.19800101-19820101.monthly.global.rst'), ds('*.*.AMIPV6ALB2G.r1i1p1.19800101-19820101.monthly.global.rstcs')) registered as /home/vignonl/tmp/climaf_cache/c2/2.nc\n"
       ]
      },
      {
       "output_type": "stream",
       "stream": "stderr",
       "text": [
        "INFO:root:driver.ceval_script : Done in 0.6 s with command:cdo sub \"/home/vignonl/tmp/climaf_cache/76/0.nc\" \"/home/vignonl/tmp/climaf_cache/95/4.nc\" /home/vignonl/tmp/climaf_cache/c2/2.nc\n"
       ]
      },
      {
       "output_type": "stream",
       "stream": "stderr",
       "text": [
        "INFO:root:driver.ceval_script : Launching command:ncview \"/home/vignonl/tmp/climaf_cache/c2/2.nc\"\n"
       ]
      }
     ],
     "prompt_number": 42
    },
    {
     "cell_type": "heading",
     "level": 1,
     "metadata": {},
     "source": [
      "12- CliMAF access to data organized according to CMIP5 DRS "
     ]
    },
    {
     "cell_type": "heading",
     "level": 3,
     "metadata": {},
     "source": [
      "This example will work as is on CNRM's Lustre, and can be easily tuned to other local CMIP5 datasets"
     ]
    },
    {
     "cell_type": "heading",
     "level": 3,
     "metadata": {},
     "source": [
      "First, let us declare a list of root directories for CNRM-CM CMIP5 data on CNRM's Lustre file system and a list of root directories for CMIP5 data on IPLS's Ciclad file system"
     ]
    },
    {
     "cell_type": "code",
     "collapsed": false,
     "input": [
      "urls_CMIP5_CNRM=[\"/cnrm/aster/data2/ESG/data1\", \"/cnrm/aster/data2/ESG/data2\", \"/cnrm/aster/data2/ESG/data5\",\n",
      "      \"/cnrm/aster/data4/ESG/data6\", \"/cnrm/aster/data4/ESG/data7\", \"/cnrm/aster/data4/ESG/data8\"]\n",
      "\n",
      "urls_CMIP5_Ciclad=[\"/prodigfs/esg\"]"
     ],
     "language": "python",
     "metadata": {},
     "outputs": [],
     "prompt_number": 45
    },
    {
     "cell_type": "heading",
     "level": 3,
     "metadata": {},
     "source": [
      "Declare locations for searching data for all projects, experiment and frequencies, and that data located in dirs listed in urls_CMIP5_CNRM and urls_CMIP5_Ciclad is organized as 'CMIP5_DRS'"
     ]
    },
    {
     "cell_type": "code",
     "collapsed": false,
     "input": [
      "dataloc(organization=\"CMIP5_DRS\", url=urls_CMIP5_CNRM+urls_CMIP5_Ciclad)"
     ],
     "language": "python",
     "metadata": {},
     "outputs": [
      {
       "metadata": {},
       "output_type": "pyout",
       "prompt_number": 46,
       "text": [
        "<climaf.dataloc.dataloc instance at 0x7fbd7c1ad758>"
       ]
      }
     ],
     "prompt_number": 46
    },
    {
     "cell_type": "heading",
     "level": 3,
     "metadata": {},
     "source": [
      "Define a default value for some dataset facets"
     ]
    },
    {
     "cell_type": "code",
     "collapsed": false,
     "input": [
      "cdef(\"frequency\",\"monthly\") ;  cdef(\"project\",\"CMIP5\")"
     ],
     "language": "python",
     "metadata": {},
     "outputs": [],
     "prompt_number": 47
    },
    {
     "cell_type": "heading",
     "level": 3,
     "metadata": {},
     "source": [
      "Define your dataset (a number of facets take default values)"
     ]
    },
    {
     "cell_type": "code",
     "collapsed": false,
     "input": [
      "tas1pc=ds(model=\"CNRM-CM5\", experiment=\"1pctCO2\", variable=\"tas\", period=\"1860-1861\")"
     ],
     "language": "python",
     "metadata": {},
     "outputs": [],
     "prompt_number": 48
    },
    {
     "cell_type": "heading",
     "level": 3,
     "metadata": {},
     "source": [
      " Display the basic filenames involved in the dataset (all filenames in one single string). CliMAF will search them at the data location which is the most specific among all declared data locations "
     ]
    },
    {
     "cell_type": "code",
     "collapsed": false,
     "input": [
      "files=tas1pc.selectFiles()\n",
      "print files"
     ],
     "language": "python",
     "metadata": {},
     "outputs": [
      {
       "output_type": "stream",
       "stream": "stdout",
       "text": [
        "/cnrm/aster/data2/ESG/data1/CMIP5/output1/CNRM-CERFACS/CNRM-CM5/1pctCO2/mon/atmos/Amon/r1i1p1/v20110701/tas/tas_Amon_CNRM-CM5_1pctCO2_r1i1p1_185001-189912.nc\n"
       ]
      }
     ],
     "prompt_number": 49
    },
    {
     "cell_type": "heading",
     "level": 3,
     "metadata": {},
     "source": [
      "Let CliMAF generate a file with the exact dataset in its disk cache (select period and/or variables, aggregate files...) "
     ]
    },
    {
     "cell_type": "code",
     "collapsed": false,
     "input": [
      "my_file=cfile(tas1pc)\n",
      "print my_file"
     ],
     "language": "python",
     "metadata": {},
     "outputs": [
      {
       "output_type": "stream",
       "stream": "stderr",
       "text": [
        "INFO:root:driver.ceval : nothing relevant found in cache for select(ds('CMIP5.CNRM-CM5.1pctCO2.r1i1p1.18600101-18620101.monthly.global.tas'))\n"
       ]
      },
      {
       "output_type": "stream",
       "stream": "stderr",
       "text": [
        "INFO:root:driver.ceval_script : Launching command:/cnrm/aster/data3/aster/vignonl/climaf/climaf/../scripts/mcdo.sh \"\" /home/vignonl/tmp/climaf_cache/40/9.nc \"tas\" \"18600101-18620101\" \"\" \"/cnrm/aster/data2/ESG/data1/CMIP5/output1/CNRM-CERFACS/CNRM-CM5/1pctCO2/mon/atmos/Amon/r1i1p1/v20110701/tas/tas_Amon_CNRM-CM5_1pctCO2_r1i1p1_185001-189912.nc\" \n"
       ]
      },
      {
       "output_type": "stream",
       "stream": "stderr",
       "text": [
        "INFO:root:cache.register : select(ds('CMIP5.CNRM-CM5.1pctCO2.r1i1p1.18600101-18620101.monthly.global.tas')) registered as /home/vignonl/tmp/climaf_cache/40/9.nc\n"
       ]
      },
      {
       "output_type": "stream",
       "stream": "stderr",
       "text": [
        "INFO:root:driver.ceval_script : Done in 2 s with command:/cnrm/aster/data3/aster/vignonl/climaf/climaf/../scripts/mcdo.sh \"\" /home/vignonl/tmp/climaf_cache/40/9.nc \"tas\" \"18600101-18620101\" \"\" \"/cnrm/aster/data2/ESG/data1/CMIP5/output1/CNRM-CERFACS/CNRM-CM5/1pctCO2/mon/atmos/Amon/r1i1p1/v20110701/tas/tas_Amon_CNRM-CM5_1pctCO2_r1i1p1_185001-189912.nc\" \n"
       ]
      },
      {
       "output_type": "stream",
       "stream": "stdout",
       "text": [
        "/home/vignonl/tmp/climaf_cache/40/9.nc\n"
       ]
      }
     ],
     "prompt_number": 50
    },
    {
     "cell_type": "heading",
     "level": 1,
     "metadata": {},
     "source": [
      "You may use and/or contribute at various levels."
     ]
    },
    {
     "cell_type": "heading",
     "level": 1,
     "metadata": {},
     "source": [
      "Much more at http://climaf.readthedocs.org/en/latest/index.html. Installing is easy. "
     ]
    }
   ],
   "metadata": {}
  }
 ]
}